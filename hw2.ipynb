{
  "nbformat": 4,
  "nbformat_minor": 0,
  "metadata": {
    "colab": {
      "provenance": [],
      "authorship_tag": "ABX9TyMAqUbx7ExUYFXnaPVoMvtg",
      "include_colab_link": true
    },
    "kernelspec": {
      "name": "python3",
      "display_name": "Python 3"
    },
    "language_info": {
      "name": "python"
    }
  },
  "cells": [
    {
      "cell_type": "markdown",
      "metadata": {
        "id": "view-in-github",
        "colab_type": "text"
      },
      "source": [
        "<a href=\"https://colab.research.google.com/github/Sumitjh26997/CSS581-ML/blob/main/hw2.ipynb\" target=\"_parent\"><img src=\"https://colab.research.google.com/assets/colab-badge.svg\" alt=\"Open In Colab\"/></a>"
      ]
    },
    {
      "cell_type": "markdown",
      "source": [
        "# **HW2**\n"
      ],
      "metadata": {
        "id": "4F5KNk19mLNK"
      }
    },
    {
      "cell_type": "markdown",
      "source": [
        "For this HW we’ll use data released by the Stanford Open Policing Project (SOPP) for the state of North Carolina, available hereLinks to an external site.. It contains records of 9.6 million police stops in the state between 2000 and 2015. A related paper is here: https://5harad.com/papers/traffic-stops.pdf\n",
        "\n",
        "Throughout this problem, report any data cleaning steps (such as dropping some rows) that you took. Also report any ambiguities you encountered and how you resolved them."
      ],
      "metadata": {
        "id": "MEVtp6qJmIIo"
      }
    },
    {
      "cell_type": "markdown",
      "source": [
        "## **Data Loading and Random Sampling**"
      ],
      "metadata": {
        "id": "59x833_wmX-C"
      }
    },
    {
      "cell_type": "markdown",
      "source": [
        "Since the dataset being loaded is very large, we are going to randomly sample 1,000,000 rows from the dataset for our analysis. This might lead to results that do not align with the overall trend seen in the wider data, but this is just a function of the data being sampled."
      ],
      "metadata": {
        "id": "vM_ISYn1iC4R"
      }
    },
    {
      "cell_type": "code",
      "execution_count": 18,
      "metadata": {
        "id": "-b09-u9dl7SF",
        "colab": {
          "base_uri": "https://localhost:8080/",
          "height": 760
        },
        "outputId": "03b27a75-8a70-489b-c2cc-01a33a191ee1"
      },
      "outputs": [
        {
          "output_type": "execute_result",
          "data": {
            "text/plain": [
              "               id state   stop_date stop_time location_raw county_name  \\\n",
              "0  NC-2000-000001    NC  2000-01-01     00:01          NaN         NaN   \n",
              "1  NC-2000-000002    NC  2000-01-01     00:01          NaN         NaN   \n",
              "2  NC-2000-000003    NC  2000-01-01     00:01          NaN         NaN   \n",
              "3  NC-2000-000004    NC  2000-01-01     00:02          NaN         NaN   \n",
              "4  NC-2000-000005    NC  2000-01-01     00:02          NaN         NaN   \n",
              "5  NC-2000-000006    NC  2000-01-01     00:02          NaN         NaN   \n",
              "6  NC-2000-000007    NC  2000-01-01     00:05          NaN         NaN   \n",
              "7  NC-2000-000008    NC  2000-01-01     00:05          NaN         NaN   \n",
              "8  NC-2000-000009    NC  2000-01-01     00:05          NaN         NaN   \n",
              "9  NC-2000-000010    NC  2000-01-01     00:05          NaN         NaN   \n",
              "\n",
              "   county_fips fine_grained_location        police_department driver_gender  \\\n",
              "0          NaN               Unknown  NC State Highway Patrol             M   \n",
              "1          NaN               Unknown  NC State Highway Patrol             M   \n",
              "2          NaN               Unknown  NC State Highway Patrol             F   \n",
              "3          NaN               Unknown  NC State Highway Patrol             F   \n",
              "4          NaN               Unknown  NC State Highway Patrol             F   \n",
              "5          NaN               Unknown  NC State Highway Patrol             M   \n",
              "6          NaN               Unknown  NC State Highway Patrol             F   \n",
              "7          NaN               Unknown  NC State Highway Patrol             M   \n",
              "8          NaN               Unknown  NC State Highway Patrol             M   \n",
              "9          NaN               Unknown  NC State Highway Patrol             M   \n",
              "\n",
              "   ...            search_type_raw         search_type contraband_found  \\\n",
              "0  ...  Search Incident to Arrest  Incident to Arrest            False   \n",
              "1  ...                        NaN                 NaN            False   \n",
              "2  ...                        NaN                 NaN            False   \n",
              "3  ...                        NaN                 NaN            False   \n",
              "4  ...                        NaN                 NaN            False   \n",
              "5  ...                    Consent             Consent            False   \n",
              "6  ...                        NaN                 NaN            False   \n",
              "7  ...                        NaN                 NaN            False   \n",
              "8  ...                        NaN                 NaN            False   \n",
              "9  ...                        NaN                 NaN            False   \n",
              "\n",
              "      stop_outcome is_arrested                      search_basis  officer_id  \\\n",
              "0           Arrest        True                               NaN         NaN   \n",
              "1  Written Warning       False                               NaN         NaN   \n",
              "2  Written Warning       False                               NaN         NaN   \n",
              "3         Citation       False                               NaN         NaN   \n",
              "4        No Action       False                               NaN         NaN   \n",
              "5         Citation       False  Observation Suspected Contraband         NaN   \n",
              "6  Written Warning       False                               NaN         NaN   \n",
              "7  Written Warning       False                               NaN         NaN   \n",
              "8         Citation       False                               NaN         NaN   \n",
              "9         Citation       False                               NaN         NaN   \n",
              "\n",
              "  drugs_related_stop ethnicity  district  \n",
              "0                NaN         N       NaN  \n",
              "1                NaN         N       NaN  \n",
              "2                NaN         N       NaN  \n",
              "3                NaN         N       NaN  \n",
              "4                NaN         N       NaN  \n",
              "5                NaN         N       NaN  \n",
              "6                NaN         N       NaN  \n",
              "7                NaN         N       NaN  \n",
              "8                NaN         N       NaN  \n",
              "9                NaN         N       NaN  \n",
              "\n",
              "[10 rows x 27 columns]"
            ],
            "text/html": [
              "\n",
              "  <div id=\"df-5eb66d62-236f-40d1-b87d-8e2b59211051\" class=\"colab-df-container\">\n",
              "    <div>\n",
              "<style scoped>\n",
              "    .dataframe tbody tr th:only-of-type {\n",
              "        vertical-align: middle;\n",
              "    }\n",
              "\n",
              "    .dataframe tbody tr th {\n",
              "        vertical-align: top;\n",
              "    }\n",
              "\n",
              "    .dataframe thead th {\n",
              "        text-align: right;\n",
              "    }\n",
              "</style>\n",
              "<table border=\"1\" class=\"dataframe\">\n",
              "  <thead>\n",
              "    <tr style=\"text-align: right;\">\n",
              "      <th></th>\n",
              "      <th>id</th>\n",
              "      <th>state</th>\n",
              "      <th>stop_date</th>\n",
              "      <th>stop_time</th>\n",
              "      <th>location_raw</th>\n",
              "      <th>county_name</th>\n",
              "      <th>county_fips</th>\n",
              "      <th>fine_grained_location</th>\n",
              "      <th>police_department</th>\n",
              "      <th>driver_gender</th>\n",
              "      <th>...</th>\n",
              "      <th>search_type_raw</th>\n",
              "      <th>search_type</th>\n",
              "      <th>contraband_found</th>\n",
              "      <th>stop_outcome</th>\n",
              "      <th>is_arrested</th>\n",
              "      <th>search_basis</th>\n",
              "      <th>officer_id</th>\n",
              "      <th>drugs_related_stop</th>\n",
              "      <th>ethnicity</th>\n",
              "      <th>district</th>\n",
              "    </tr>\n",
              "  </thead>\n",
              "  <tbody>\n",
              "    <tr>\n",
              "      <th>0</th>\n",
              "      <td>NC-2000-000001</td>\n",
              "      <td>NC</td>\n",
              "      <td>2000-01-01</td>\n",
              "      <td>00:01</td>\n",
              "      <td>NaN</td>\n",
              "      <td>NaN</td>\n",
              "      <td>NaN</td>\n",
              "      <td>Unknown</td>\n",
              "      <td>NC State Highway Patrol</td>\n",
              "      <td>M</td>\n",
              "      <td>...</td>\n",
              "      <td>Search Incident to Arrest</td>\n",
              "      <td>Incident to Arrest</td>\n",
              "      <td>False</td>\n",
              "      <td>Arrest</td>\n",
              "      <td>True</td>\n",
              "      <td>NaN</td>\n",
              "      <td>NaN</td>\n",
              "      <td>NaN</td>\n",
              "      <td>N</td>\n",
              "      <td>NaN</td>\n",
              "    </tr>\n",
              "    <tr>\n",
              "      <th>1</th>\n",
              "      <td>NC-2000-000002</td>\n",
              "      <td>NC</td>\n",
              "      <td>2000-01-01</td>\n",
              "      <td>00:01</td>\n",
              "      <td>NaN</td>\n",
              "      <td>NaN</td>\n",
              "      <td>NaN</td>\n",
              "      <td>Unknown</td>\n",
              "      <td>NC State Highway Patrol</td>\n",
              "      <td>M</td>\n",
              "      <td>...</td>\n",
              "      <td>NaN</td>\n",
              "      <td>NaN</td>\n",
              "      <td>False</td>\n",
              "      <td>Written Warning</td>\n",
              "      <td>False</td>\n",
              "      <td>NaN</td>\n",
              "      <td>NaN</td>\n",
              "      <td>NaN</td>\n",
              "      <td>N</td>\n",
              "      <td>NaN</td>\n",
              "    </tr>\n",
              "    <tr>\n",
              "      <th>2</th>\n",
              "      <td>NC-2000-000003</td>\n",
              "      <td>NC</td>\n",
              "      <td>2000-01-01</td>\n",
              "      <td>00:01</td>\n",
              "      <td>NaN</td>\n",
              "      <td>NaN</td>\n",
              "      <td>NaN</td>\n",
              "      <td>Unknown</td>\n",
              "      <td>NC State Highway Patrol</td>\n",
              "      <td>F</td>\n",
              "      <td>...</td>\n",
              "      <td>NaN</td>\n",
              "      <td>NaN</td>\n",
              "      <td>False</td>\n",
              "      <td>Written Warning</td>\n",
              "      <td>False</td>\n",
              "      <td>NaN</td>\n",
              "      <td>NaN</td>\n",
              "      <td>NaN</td>\n",
              "      <td>N</td>\n",
              "      <td>NaN</td>\n",
              "    </tr>\n",
              "    <tr>\n",
              "      <th>3</th>\n",
              "      <td>NC-2000-000004</td>\n",
              "      <td>NC</td>\n",
              "      <td>2000-01-01</td>\n",
              "      <td>00:02</td>\n",
              "      <td>NaN</td>\n",
              "      <td>NaN</td>\n",
              "      <td>NaN</td>\n",
              "      <td>Unknown</td>\n",
              "      <td>NC State Highway Patrol</td>\n",
              "      <td>F</td>\n",
              "      <td>...</td>\n",
              "      <td>NaN</td>\n",
              "      <td>NaN</td>\n",
              "      <td>False</td>\n",
              "      <td>Citation</td>\n",
              "      <td>False</td>\n",
              "      <td>NaN</td>\n",
              "      <td>NaN</td>\n",
              "      <td>NaN</td>\n",
              "      <td>N</td>\n",
              "      <td>NaN</td>\n",
              "    </tr>\n",
              "    <tr>\n",
              "      <th>4</th>\n",
              "      <td>NC-2000-000005</td>\n",
              "      <td>NC</td>\n",
              "      <td>2000-01-01</td>\n",
              "      <td>00:02</td>\n",
              "      <td>NaN</td>\n",
              "      <td>NaN</td>\n",
              "      <td>NaN</td>\n",
              "      <td>Unknown</td>\n",
              "      <td>NC State Highway Patrol</td>\n",
              "      <td>F</td>\n",
              "      <td>...</td>\n",
              "      <td>NaN</td>\n",
              "      <td>NaN</td>\n",
              "      <td>False</td>\n",
              "      <td>No Action</td>\n",
              "      <td>False</td>\n",
              "      <td>NaN</td>\n",
              "      <td>NaN</td>\n",
              "      <td>NaN</td>\n",
              "      <td>N</td>\n",
              "      <td>NaN</td>\n",
              "    </tr>\n",
              "    <tr>\n",
              "      <th>5</th>\n",
              "      <td>NC-2000-000006</td>\n",
              "      <td>NC</td>\n",
              "      <td>2000-01-01</td>\n",
              "      <td>00:02</td>\n",
              "      <td>NaN</td>\n",
              "      <td>NaN</td>\n",
              "      <td>NaN</td>\n",
              "      <td>Unknown</td>\n",
              "      <td>NC State Highway Patrol</td>\n",
              "      <td>M</td>\n",
              "      <td>...</td>\n",
              "      <td>Consent</td>\n",
              "      <td>Consent</td>\n",
              "      <td>False</td>\n",
              "      <td>Citation</td>\n",
              "      <td>False</td>\n",
              "      <td>Observation Suspected Contraband</td>\n",
              "      <td>NaN</td>\n",
              "      <td>NaN</td>\n",
              "      <td>N</td>\n",
              "      <td>NaN</td>\n",
              "    </tr>\n",
              "    <tr>\n",
              "      <th>6</th>\n",
              "      <td>NC-2000-000007</td>\n",
              "      <td>NC</td>\n",
              "      <td>2000-01-01</td>\n",
              "      <td>00:05</td>\n",
              "      <td>NaN</td>\n",
              "      <td>NaN</td>\n",
              "      <td>NaN</td>\n",
              "      <td>Unknown</td>\n",
              "      <td>NC State Highway Patrol</td>\n",
              "      <td>F</td>\n",
              "      <td>...</td>\n",
              "      <td>NaN</td>\n",
              "      <td>NaN</td>\n",
              "      <td>False</td>\n",
              "      <td>Written Warning</td>\n",
              "      <td>False</td>\n",
              "      <td>NaN</td>\n",
              "      <td>NaN</td>\n",
              "      <td>NaN</td>\n",
              "      <td>N</td>\n",
              "      <td>NaN</td>\n",
              "    </tr>\n",
              "    <tr>\n",
              "      <th>7</th>\n",
              "      <td>NC-2000-000008</td>\n",
              "      <td>NC</td>\n",
              "      <td>2000-01-01</td>\n",
              "      <td>00:05</td>\n",
              "      <td>NaN</td>\n",
              "      <td>NaN</td>\n",
              "      <td>NaN</td>\n",
              "      <td>Unknown</td>\n",
              "      <td>NC State Highway Patrol</td>\n",
              "      <td>M</td>\n",
              "      <td>...</td>\n",
              "      <td>NaN</td>\n",
              "      <td>NaN</td>\n",
              "      <td>False</td>\n",
              "      <td>Written Warning</td>\n",
              "      <td>False</td>\n",
              "      <td>NaN</td>\n",
              "      <td>NaN</td>\n",
              "      <td>NaN</td>\n",
              "      <td>N</td>\n",
              "      <td>NaN</td>\n",
              "    </tr>\n",
              "    <tr>\n",
              "      <th>8</th>\n",
              "      <td>NC-2000-000009</td>\n",
              "      <td>NC</td>\n",
              "      <td>2000-01-01</td>\n",
              "      <td>00:05</td>\n",
              "      <td>NaN</td>\n",
              "      <td>NaN</td>\n",
              "      <td>NaN</td>\n",
              "      <td>Unknown</td>\n",
              "      <td>NC State Highway Patrol</td>\n",
              "      <td>M</td>\n",
              "      <td>...</td>\n",
              "      <td>NaN</td>\n",
              "      <td>NaN</td>\n",
              "      <td>False</td>\n",
              "      <td>Citation</td>\n",
              "      <td>False</td>\n",
              "      <td>NaN</td>\n",
              "      <td>NaN</td>\n",
              "      <td>NaN</td>\n",
              "      <td>N</td>\n",
              "      <td>NaN</td>\n",
              "    </tr>\n",
              "    <tr>\n",
              "      <th>9</th>\n",
              "      <td>NC-2000-000010</td>\n",
              "      <td>NC</td>\n",
              "      <td>2000-01-01</td>\n",
              "      <td>00:05</td>\n",
              "      <td>NaN</td>\n",
              "      <td>NaN</td>\n",
              "      <td>NaN</td>\n",
              "      <td>Unknown</td>\n",
              "      <td>NC State Highway Patrol</td>\n",
              "      <td>M</td>\n",
              "      <td>...</td>\n",
              "      <td>NaN</td>\n",
              "      <td>NaN</td>\n",
              "      <td>False</td>\n",
              "      <td>Citation</td>\n",
              "      <td>False</td>\n",
              "      <td>NaN</td>\n",
              "      <td>NaN</td>\n",
              "      <td>NaN</td>\n",
              "      <td>N</td>\n",
              "      <td>NaN</td>\n",
              "    </tr>\n",
              "  </tbody>\n",
              "</table>\n",
              "<p>10 rows × 27 columns</p>\n",
              "</div>\n",
              "    <div class=\"colab-df-buttons\">\n",
              "\n",
              "  <div class=\"colab-df-container\">\n",
              "    <button class=\"colab-df-convert\" onclick=\"convertToInteractive('df-5eb66d62-236f-40d1-b87d-8e2b59211051')\"\n",
              "            title=\"Convert this dataframe to an interactive table.\"\n",
              "            style=\"display:none;\">\n",
              "\n",
              "  <svg xmlns=\"http://www.w3.org/2000/svg\" height=\"24px\" viewBox=\"0 -960 960 960\">\n",
              "    <path d=\"M120-120v-720h720v720H120Zm60-500h600v-160H180v160Zm220 220h160v-160H400v160Zm0 220h160v-160H400v160ZM180-400h160v-160H180v160Zm440 0h160v-160H620v160ZM180-180h160v-160H180v160Zm440 0h160v-160H620v160Z\"/>\n",
              "  </svg>\n",
              "    </button>\n",
              "\n",
              "  <style>\n",
              "    .colab-df-container {\n",
              "      display:flex;\n",
              "      gap: 12px;\n",
              "    }\n",
              "\n",
              "    .colab-df-convert {\n",
              "      background-color: #E8F0FE;\n",
              "      border: none;\n",
              "      border-radius: 50%;\n",
              "      cursor: pointer;\n",
              "      display: none;\n",
              "      fill: #1967D2;\n",
              "      height: 32px;\n",
              "      padding: 0 0 0 0;\n",
              "      width: 32px;\n",
              "    }\n",
              "\n",
              "    .colab-df-convert:hover {\n",
              "      background-color: #E2EBFA;\n",
              "      box-shadow: 0px 1px 2px rgba(60, 64, 67, 0.3), 0px 1px 3px 1px rgba(60, 64, 67, 0.15);\n",
              "      fill: #174EA6;\n",
              "    }\n",
              "\n",
              "    .colab-df-buttons div {\n",
              "      margin-bottom: 4px;\n",
              "    }\n",
              "\n",
              "    [theme=dark] .colab-df-convert {\n",
              "      background-color: #3B4455;\n",
              "      fill: #D2E3FC;\n",
              "    }\n",
              "\n",
              "    [theme=dark] .colab-df-convert:hover {\n",
              "      background-color: #434B5C;\n",
              "      box-shadow: 0px 1px 3px 1px rgba(0, 0, 0, 0.15);\n",
              "      filter: drop-shadow(0px 1px 2px rgba(0, 0, 0, 0.3));\n",
              "      fill: #FFFFFF;\n",
              "    }\n",
              "  </style>\n",
              "\n",
              "    <script>\n",
              "      const buttonEl =\n",
              "        document.querySelector('#df-5eb66d62-236f-40d1-b87d-8e2b59211051 button.colab-df-convert');\n",
              "      buttonEl.style.display =\n",
              "        google.colab.kernel.accessAllowed ? 'block' : 'none';\n",
              "\n",
              "      async function convertToInteractive(key) {\n",
              "        const element = document.querySelector('#df-5eb66d62-236f-40d1-b87d-8e2b59211051');\n",
              "        const dataTable =\n",
              "          await google.colab.kernel.invokeFunction('convertToInteractive',\n",
              "                                                    [key], {});\n",
              "        if (!dataTable) return;\n",
              "\n",
              "        const docLinkHtml = 'Like what you see? Visit the ' +\n",
              "          '<a target=\"_blank\" href=https://colab.research.google.com/notebooks/data_table.ipynb>data table notebook</a>'\n",
              "          + ' to learn more about interactive tables.';\n",
              "        element.innerHTML = '';\n",
              "        dataTable['output_type'] = 'display_data';\n",
              "        await google.colab.output.renderOutput(dataTable, element);\n",
              "        const docLink = document.createElement('div');\n",
              "        docLink.innerHTML = docLinkHtml;\n",
              "        element.appendChild(docLink);\n",
              "      }\n",
              "    </script>\n",
              "  </div>\n",
              "\n",
              "\n",
              "<div id=\"df-fd5d1caf-d602-45cb-8fbd-a30088f3deab\">\n",
              "  <button class=\"colab-df-quickchart\" onclick=\"quickchart('df-fd5d1caf-d602-45cb-8fbd-a30088f3deab')\"\n",
              "            title=\"Suggest charts.\"\n",
              "            style=\"display:none;\">\n",
              "\n",
              "<svg xmlns=\"http://www.w3.org/2000/svg\" height=\"24px\"viewBox=\"0 0 24 24\"\n",
              "     width=\"24px\">\n",
              "    <g>\n",
              "        <path d=\"M19 3H5c-1.1 0-2 .9-2 2v14c0 1.1.9 2 2 2h14c1.1 0 2-.9 2-2V5c0-1.1-.9-2-2-2zM9 17H7v-7h2v7zm4 0h-2V7h2v10zm4 0h-2v-4h2v4z\"/>\n",
              "    </g>\n",
              "</svg>\n",
              "  </button>\n",
              "\n",
              "<style>\n",
              "  .colab-df-quickchart {\n",
              "      --bg-color: #E8F0FE;\n",
              "      --fill-color: #1967D2;\n",
              "      --hover-bg-color: #E2EBFA;\n",
              "      --hover-fill-color: #174EA6;\n",
              "      --disabled-fill-color: #AAA;\n",
              "      --disabled-bg-color: #DDD;\n",
              "  }\n",
              "\n",
              "  [theme=dark] .colab-df-quickchart {\n",
              "      --bg-color: #3B4455;\n",
              "      --fill-color: #D2E3FC;\n",
              "      --hover-bg-color: #434B5C;\n",
              "      --hover-fill-color: #FFFFFF;\n",
              "      --disabled-bg-color: #3B4455;\n",
              "      --disabled-fill-color: #666;\n",
              "  }\n",
              "\n",
              "  .colab-df-quickchart {\n",
              "    background-color: var(--bg-color);\n",
              "    border: none;\n",
              "    border-radius: 50%;\n",
              "    cursor: pointer;\n",
              "    display: none;\n",
              "    fill: var(--fill-color);\n",
              "    height: 32px;\n",
              "    padding: 0;\n",
              "    width: 32px;\n",
              "  }\n",
              "\n",
              "  .colab-df-quickchart:hover {\n",
              "    background-color: var(--hover-bg-color);\n",
              "    box-shadow: 0 1px 2px rgba(60, 64, 67, 0.3), 0 1px 3px 1px rgba(60, 64, 67, 0.15);\n",
              "    fill: var(--button-hover-fill-color);\n",
              "  }\n",
              "\n",
              "  .colab-df-quickchart-complete:disabled,\n",
              "  .colab-df-quickchart-complete:disabled:hover {\n",
              "    background-color: var(--disabled-bg-color);\n",
              "    fill: var(--disabled-fill-color);\n",
              "    box-shadow: none;\n",
              "  }\n",
              "\n",
              "  .colab-df-spinner {\n",
              "    border: 2px solid var(--fill-color);\n",
              "    border-color: transparent;\n",
              "    border-bottom-color: var(--fill-color);\n",
              "    animation:\n",
              "      spin 1s steps(1) infinite;\n",
              "  }\n",
              "\n",
              "  @keyframes spin {\n",
              "    0% {\n",
              "      border-color: transparent;\n",
              "      border-bottom-color: var(--fill-color);\n",
              "      border-left-color: var(--fill-color);\n",
              "    }\n",
              "    20% {\n",
              "      border-color: transparent;\n",
              "      border-left-color: var(--fill-color);\n",
              "      border-top-color: var(--fill-color);\n",
              "    }\n",
              "    30% {\n",
              "      border-color: transparent;\n",
              "      border-left-color: var(--fill-color);\n",
              "      border-top-color: var(--fill-color);\n",
              "      border-right-color: var(--fill-color);\n",
              "    }\n",
              "    40% {\n",
              "      border-color: transparent;\n",
              "      border-right-color: var(--fill-color);\n",
              "      border-top-color: var(--fill-color);\n",
              "    }\n",
              "    60% {\n",
              "      border-color: transparent;\n",
              "      border-right-color: var(--fill-color);\n",
              "    }\n",
              "    80% {\n",
              "      border-color: transparent;\n",
              "      border-right-color: var(--fill-color);\n",
              "      border-bottom-color: var(--fill-color);\n",
              "    }\n",
              "    90% {\n",
              "      border-color: transparent;\n",
              "      border-bottom-color: var(--fill-color);\n",
              "    }\n",
              "  }\n",
              "</style>\n",
              "\n",
              "  <script>\n",
              "    async function quickchart(key) {\n",
              "      const quickchartButtonEl =\n",
              "        document.querySelector('#' + key + ' button');\n",
              "      quickchartButtonEl.disabled = true;  // To prevent multiple clicks.\n",
              "      quickchartButtonEl.classList.add('colab-df-spinner');\n",
              "      try {\n",
              "        const charts = await google.colab.kernel.invokeFunction(\n",
              "            'suggestCharts', [key], {});\n",
              "      } catch (error) {\n",
              "        console.error('Error during call to suggestCharts:', error);\n",
              "      }\n",
              "      quickchartButtonEl.classList.remove('colab-df-spinner');\n",
              "      quickchartButtonEl.classList.add('colab-df-quickchart-complete');\n",
              "    }\n",
              "    (() => {\n",
              "      let quickchartButtonEl =\n",
              "        document.querySelector('#df-fd5d1caf-d602-45cb-8fbd-a30088f3deab button');\n",
              "      quickchartButtonEl.style.display =\n",
              "        google.colab.kernel.accessAllowed ? 'block' : 'none';\n",
              "    })();\n",
              "  </script>\n",
              "</div>\n",
              "    </div>\n",
              "  </div>\n"
            ]
          },
          "metadata": {},
          "execution_count": 18
        }
      ],
      "source": [
        "import pandas as pd\n",
        "import numpy as np\n",
        "from sklearn.utils import resample\n",
        "from sklearn.utils.random import sample_without_replacement\n",
        "\n",
        "data = pd.read_csv(\"NC-clean.csv.gz\", compression='gzip', low_memory=False)\n",
        "data.head(10)"
      ]
    },
    {
      "cell_type": "code",
      "source": [
        "data.info()"
      ],
      "metadata": {
        "colab": {
          "base_uri": "https://localhost:8080/"
        },
        "id": "fXV42e_6knnt",
        "outputId": "6d3f63f8-7d7f-4e7a-8aaa-c70f787d7493"
      },
      "execution_count": 19,
      "outputs": [
        {
          "output_type": "stream",
          "name": "stdout",
          "text": [
            "<class 'pandas.core.frame.DataFrame'>\n",
            "RangeIndex: 9558084 entries, 0 to 9558083\n",
            "Data columns (total 27 columns):\n",
            " #   Column                 Dtype  \n",
            "---  ------                 -----  \n",
            " 0   id                     object \n",
            " 1   state                  object \n",
            " 2   stop_date              object \n",
            " 3   stop_time              object \n",
            " 4   location_raw           object \n",
            " 5   county_name            object \n",
            " 6   county_fips            float64\n",
            " 7   fine_grained_location  object \n",
            " 8   police_department      object \n",
            " 9   driver_gender          object \n",
            " 10  driver_age_raw         float64\n",
            " 11  driver_age             float64\n",
            " 12  driver_race_raw        object \n",
            " 13  driver_race            object \n",
            " 14  violation_raw          object \n",
            " 15  violation              object \n",
            " 16  search_conducted       bool   \n",
            " 17  search_type_raw        object \n",
            " 18  search_type            object \n",
            " 19  contraband_found       bool   \n",
            " 20  stop_outcome           object \n",
            " 21  is_arrested            bool   \n",
            " 22  search_basis           object \n",
            " 23  officer_id             object \n",
            " 24  drugs_related_stop     object \n",
            " 25  ethnicity              object \n",
            " 26  district               object \n",
            "dtypes: bool(3), float64(3), object(21)\n",
            "memory usage: 1.7+ GB\n"
          ]
        }
      ]
    },
    {
      "cell_type": "code",
      "source": [
        "resampled_data = data.sample(n=1000000, random_state = 42)\n",
        "resampled_data.head(5)"
      ],
      "metadata": {
        "colab": {
          "base_uri": "https://localhost:8080/",
          "height": 429
        },
        "id": "ZdGiFXulmREL",
        "outputId": "b17676ee-b997-4e4b-f72f-3b76489a4b76"
      },
      "execution_count": 20,
      "outputs": [
        {
          "output_type": "execute_result",
          "data": {
            "text/plain": [
              "                     id state   stop_date stop_time location_raw  \\\n",
              "2071087  NC-2004-071406    NC  2004-03-03       NaN           E4   \n",
              "3990192  NC-2008-195265    NC  2008-04-10       NaN           B2   \n",
              "5050121  NC-2009-580025    NC  2009-11-19       NaN           F2   \n",
              "4458735  NC-2008-663808    NC  2008-12-24       NaN           D6   \n",
              "8040542  NC-2013-472450    NC  2013-08-24       NaN       Durham   \n",
              "\n",
              "             county_name  county_fips fine_grained_location  \\\n",
              "2071087   Forsyth County      37067.0         WINSTON SALEM   \n",
              "3990192   Sampson County      37163.0                   NaN   \n",
              "5050121              NaN          NaN                   NaN   \n",
              "4458735  Randolph County      37151.0              asheboro   \n",
              "8040542    Durham County      37063.0                   NaN   \n",
              "\n",
              "               police_department driver_gender  ...  search_type_raw  \\\n",
              "2071087  NC State Highway Patrol             F  ...              NaN   \n",
              "3990192  NC State Highway Patrol             F  ...              NaN   \n",
              "5050121  NC State Highway Patrol             M  ...              NaN   \n",
              "4458735  NC State Highway Patrol             F  ...              NaN   \n",
              "8040542  NC State Highway Patrol             M  ...              NaN   \n",
              "\n",
              "         search_type contraband_found     stop_outcome is_arrested  \\\n",
              "2071087          NaN            False         Citation       False   \n",
              "3990192          NaN            False         Citation       False   \n",
              "5050121          NaN            False         Citation       False   \n",
              "4458735          NaN            False         Citation       False   \n",
              "8040542          NaN            False  Written Warning       False   \n",
              "\n",
              "        search_basis  officer_id drugs_related_stop ethnicity  district  \n",
              "2071087          NaN       10607                NaN         N        E4  \n",
              "3990192          NaN       10303                NaN         N        B2  \n",
              "5050121          NaN       21323                NaN         N        F2  \n",
              "4458735          NaN       10654                NaN         N        D6  \n",
              "8040542          NaN       21549                NaN         H        C7  \n",
              "\n",
              "[5 rows x 27 columns]"
            ],
            "text/html": [
              "\n",
              "  <div id=\"df-9408fdf3-18e8-4235-b540-0ab7762753c4\" class=\"colab-df-container\">\n",
              "    <div>\n",
              "<style scoped>\n",
              "    .dataframe tbody tr th:only-of-type {\n",
              "        vertical-align: middle;\n",
              "    }\n",
              "\n",
              "    .dataframe tbody tr th {\n",
              "        vertical-align: top;\n",
              "    }\n",
              "\n",
              "    .dataframe thead th {\n",
              "        text-align: right;\n",
              "    }\n",
              "</style>\n",
              "<table border=\"1\" class=\"dataframe\">\n",
              "  <thead>\n",
              "    <tr style=\"text-align: right;\">\n",
              "      <th></th>\n",
              "      <th>id</th>\n",
              "      <th>state</th>\n",
              "      <th>stop_date</th>\n",
              "      <th>stop_time</th>\n",
              "      <th>location_raw</th>\n",
              "      <th>county_name</th>\n",
              "      <th>county_fips</th>\n",
              "      <th>fine_grained_location</th>\n",
              "      <th>police_department</th>\n",
              "      <th>driver_gender</th>\n",
              "      <th>...</th>\n",
              "      <th>search_type_raw</th>\n",
              "      <th>search_type</th>\n",
              "      <th>contraband_found</th>\n",
              "      <th>stop_outcome</th>\n",
              "      <th>is_arrested</th>\n",
              "      <th>search_basis</th>\n",
              "      <th>officer_id</th>\n",
              "      <th>drugs_related_stop</th>\n",
              "      <th>ethnicity</th>\n",
              "      <th>district</th>\n",
              "    </tr>\n",
              "  </thead>\n",
              "  <tbody>\n",
              "    <tr>\n",
              "      <th>2071087</th>\n",
              "      <td>NC-2004-071406</td>\n",
              "      <td>NC</td>\n",
              "      <td>2004-03-03</td>\n",
              "      <td>NaN</td>\n",
              "      <td>E4</td>\n",
              "      <td>Forsyth County</td>\n",
              "      <td>37067.0</td>\n",
              "      <td>WINSTON SALEM</td>\n",
              "      <td>NC State Highway Patrol</td>\n",
              "      <td>F</td>\n",
              "      <td>...</td>\n",
              "      <td>NaN</td>\n",
              "      <td>NaN</td>\n",
              "      <td>False</td>\n",
              "      <td>Citation</td>\n",
              "      <td>False</td>\n",
              "      <td>NaN</td>\n",
              "      <td>10607</td>\n",
              "      <td>NaN</td>\n",
              "      <td>N</td>\n",
              "      <td>E4</td>\n",
              "    </tr>\n",
              "    <tr>\n",
              "      <th>3990192</th>\n",
              "      <td>NC-2008-195265</td>\n",
              "      <td>NC</td>\n",
              "      <td>2008-04-10</td>\n",
              "      <td>NaN</td>\n",
              "      <td>B2</td>\n",
              "      <td>Sampson County</td>\n",
              "      <td>37163.0</td>\n",
              "      <td>NaN</td>\n",
              "      <td>NC State Highway Patrol</td>\n",
              "      <td>F</td>\n",
              "      <td>...</td>\n",
              "      <td>NaN</td>\n",
              "      <td>NaN</td>\n",
              "      <td>False</td>\n",
              "      <td>Citation</td>\n",
              "      <td>False</td>\n",
              "      <td>NaN</td>\n",
              "      <td>10303</td>\n",
              "      <td>NaN</td>\n",
              "      <td>N</td>\n",
              "      <td>B2</td>\n",
              "    </tr>\n",
              "    <tr>\n",
              "      <th>5050121</th>\n",
              "      <td>NC-2009-580025</td>\n",
              "      <td>NC</td>\n",
              "      <td>2009-11-19</td>\n",
              "      <td>NaN</td>\n",
              "      <td>F2</td>\n",
              "      <td>NaN</td>\n",
              "      <td>NaN</td>\n",
              "      <td>NaN</td>\n",
              "      <td>NC State Highway Patrol</td>\n",
              "      <td>M</td>\n",
              "      <td>...</td>\n",
              "      <td>NaN</td>\n",
              "      <td>NaN</td>\n",
              "      <td>False</td>\n",
              "      <td>Citation</td>\n",
              "      <td>False</td>\n",
              "      <td>NaN</td>\n",
              "      <td>21323</td>\n",
              "      <td>NaN</td>\n",
              "      <td>N</td>\n",
              "      <td>F2</td>\n",
              "    </tr>\n",
              "    <tr>\n",
              "      <th>4458735</th>\n",
              "      <td>NC-2008-663808</td>\n",
              "      <td>NC</td>\n",
              "      <td>2008-12-24</td>\n",
              "      <td>NaN</td>\n",
              "      <td>D6</td>\n",
              "      <td>Randolph County</td>\n",
              "      <td>37151.0</td>\n",
              "      <td>asheboro</td>\n",
              "      <td>NC State Highway Patrol</td>\n",
              "      <td>F</td>\n",
              "      <td>...</td>\n",
              "      <td>NaN</td>\n",
              "      <td>NaN</td>\n",
              "      <td>False</td>\n",
              "      <td>Citation</td>\n",
              "      <td>False</td>\n",
              "      <td>NaN</td>\n",
              "      <td>10654</td>\n",
              "      <td>NaN</td>\n",
              "      <td>N</td>\n",
              "      <td>D6</td>\n",
              "    </tr>\n",
              "    <tr>\n",
              "      <th>8040542</th>\n",
              "      <td>NC-2013-472450</td>\n",
              "      <td>NC</td>\n",
              "      <td>2013-08-24</td>\n",
              "      <td>NaN</td>\n",
              "      <td>Durham</td>\n",
              "      <td>Durham County</td>\n",
              "      <td>37063.0</td>\n",
              "      <td>NaN</td>\n",
              "      <td>NC State Highway Patrol</td>\n",
              "      <td>M</td>\n",
              "      <td>...</td>\n",
              "      <td>NaN</td>\n",
              "      <td>NaN</td>\n",
              "      <td>False</td>\n",
              "      <td>Written Warning</td>\n",
              "      <td>False</td>\n",
              "      <td>NaN</td>\n",
              "      <td>21549</td>\n",
              "      <td>NaN</td>\n",
              "      <td>H</td>\n",
              "      <td>C7</td>\n",
              "    </tr>\n",
              "  </tbody>\n",
              "</table>\n",
              "<p>5 rows × 27 columns</p>\n",
              "</div>\n",
              "    <div class=\"colab-df-buttons\">\n",
              "\n",
              "  <div class=\"colab-df-container\">\n",
              "    <button class=\"colab-df-convert\" onclick=\"convertToInteractive('df-9408fdf3-18e8-4235-b540-0ab7762753c4')\"\n",
              "            title=\"Convert this dataframe to an interactive table.\"\n",
              "            style=\"display:none;\">\n",
              "\n",
              "  <svg xmlns=\"http://www.w3.org/2000/svg\" height=\"24px\" viewBox=\"0 -960 960 960\">\n",
              "    <path d=\"M120-120v-720h720v720H120Zm60-500h600v-160H180v160Zm220 220h160v-160H400v160Zm0 220h160v-160H400v160ZM180-400h160v-160H180v160Zm440 0h160v-160H620v160ZM180-180h160v-160H180v160Zm440 0h160v-160H620v160Z\"/>\n",
              "  </svg>\n",
              "    </button>\n",
              "\n",
              "  <style>\n",
              "    .colab-df-container {\n",
              "      display:flex;\n",
              "      gap: 12px;\n",
              "    }\n",
              "\n",
              "    .colab-df-convert {\n",
              "      background-color: #E8F0FE;\n",
              "      border: none;\n",
              "      border-radius: 50%;\n",
              "      cursor: pointer;\n",
              "      display: none;\n",
              "      fill: #1967D2;\n",
              "      height: 32px;\n",
              "      padding: 0 0 0 0;\n",
              "      width: 32px;\n",
              "    }\n",
              "\n",
              "    .colab-df-convert:hover {\n",
              "      background-color: #E2EBFA;\n",
              "      box-shadow: 0px 1px 2px rgba(60, 64, 67, 0.3), 0px 1px 3px 1px rgba(60, 64, 67, 0.15);\n",
              "      fill: #174EA6;\n",
              "    }\n",
              "\n",
              "    .colab-df-buttons div {\n",
              "      margin-bottom: 4px;\n",
              "    }\n",
              "\n",
              "    [theme=dark] .colab-df-convert {\n",
              "      background-color: #3B4455;\n",
              "      fill: #D2E3FC;\n",
              "    }\n",
              "\n",
              "    [theme=dark] .colab-df-convert:hover {\n",
              "      background-color: #434B5C;\n",
              "      box-shadow: 0px 1px 3px 1px rgba(0, 0, 0, 0.15);\n",
              "      filter: drop-shadow(0px 1px 2px rgba(0, 0, 0, 0.3));\n",
              "      fill: #FFFFFF;\n",
              "    }\n",
              "  </style>\n",
              "\n",
              "    <script>\n",
              "      const buttonEl =\n",
              "        document.querySelector('#df-9408fdf3-18e8-4235-b540-0ab7762753c4 button.colab-df-convert');\n",
              "      buttonEl.style.display =\n",
              "        google.colab.kernel.accessAllowed ? 'block' : 'none';\n",
              "\n",
              "      async function convertToInteractive(key) {\n",
              "        const element = document.querySelector('#df-9408fdf3-18e8-4235-b540-0ab7762753c4');\n",
              "        const dataTable =\n",
              "          await google.colab.kernel.invokeFunction('convertToInteractive',\n",
              "                                                    [key], {});\n",
              "        if (!dataTable) return;\n",
              "\n",
              "        const docLinkHtml = 'Like what you see? Visit the ' +\n",
              "          '<a target=\"_blank\" href=https://colab.research.google.com/notebooks/data_table.ipynb>data table notebook</a>'\n",
              "          + ' to learn more about interactive tables.';\n",
              "        element.innerHTML = '';\n",
              "        dataTable['output_type'] = 'display_data';\n",
              "        await google.colab.output.renderOutput(dataTable, element);\n",
              "        const docLink = document.createElement('div');\n",
              "        docLink.innerHTML = docLinkHtml;\n",
              "        element.appendChild(docLink);\n",
              "      }\n",
              "    </script>\n",
              "  </div>\n",
              "\n",
              "\n",
              "<div id=\"df-c1bf4814-e1bf-4950-b510-fa02cf83cf5c\">\n",
              "  <button class=\"colab-df-quickchart\" onclick=\"quickchart('df-c1bf4814-e1bf-4950-b510-fa02cf83cf5c')\"\n",
              "            title=\"Suggest charts.\"\n",
              "            style=\"display:none;\">\n",
              "\n",
              "<svg xmlns=\"http://www.w3.org/2000/svg\" height=\"24px\"viewBox=\"0 0 24 24\"\n",
              "     width=\"24px\">\n",
              "    <g>\n",
              "        <path d=\"M19 3H5c-1.1 0-2 .9-2 2v14c0 1.1.9 2 2 2h14c1.1 0 2-.9 2-2V5c0-1.1-.9-2-2-2zM9 17H7v-7h2v7zm4 0h-2V7h2v10zm4 0h-2v-4h2v4z\"/>\n",
              "    </g>\n",
              "</svg>\n",
              "  </button>\n",
              "\n",
              "<style>\n",
              "  .colab-df-quickchart {\n",
              "      --bg-color: #E8F0FE;\n",
              "      --fill-color: #1967D2;\n",
              "      --hover-bg-color: #E2EBFA;\n",
              "      --hover-fill-color: #174EA6;\n",
              "      --disabled-fill-color: #AAA;\n",
              "      --disabled-bg-color: #DDD;\n",
              "  }\n",
              "\n",
              "  [theme=dark] .colab-df-quickchart {\n",
              "      --bg-color: #3B4455;\n",
              "      --fill-color: #D2E3FC;\n",
              "      --hover-bg-color: #434B5C;\n",
              "      --hover-fill-color: #FFFFFF;\n",
              "      --disabled-bg-color: #3B4455;\n",
              "      --disabled-fill-color: #666;\n",
              "  }\n",
              "\n",
              "  .colab-df-quickchart {\n",
              "    background-color: var(--bg-color);\n",
              "    border: none;\n",
              "    border-radius: 50%;\n",
              "    cursor: pointer;\n",
              "    display: none;\n",
              "    fill: var(--fill-color);\n",
              "    height: 32px;\n",
              "    padding: 0;\n",
              "    width: 32px;\n",
              "  }\n",
              "\n",
              "  .colab-df-quickchart:hover {\n",
              "    background-color: var(--hover-bg-color);\n",
              "    box-shadow: 0 1px 2px rgba(60, 64, 67, 0.3), 0 1px 3px 1px rgba(60, 64, 67, 0.15);\n",
              "    fill: var(--button-hover-fill-color);\n",
              "  }\n",
              "\n",
              "  .colab-df-quickchart-complete:disabled,\n",
              "  .colab-df-quickchart-complete:disabled:hover {\n",
              "    background-color: var(--disabled-bg-color);\n",
              "    fill: var(--disabled-fill-color);\n",
              "    box-shadow: none;\n",
              "  }\n",
              "\n",
              "  .colab-df-spinner {\n",
              "    border: 2px solid var(--fill-color);\n",
              "    border-color: transparent;\n",
              "    border-bottom-color: var(--fill-color);\n",
              "    animation:\n",
              "      spin 1s steps(1) infinite;\n",
              "  }\n",
              "\n",
              "  @keyframes spin {\n",
              "    0% {\n",
              "      border-color: transparent;\n",
              "      border-bottom-color: var(--fill-color);\n",
              "      border-left-color: var(--fill-color);\n",
              "    }\n",
              "    20% {\n",
              "      border-color: transparent;\n",
              "      border-left-color: var(--fill-color);\n",
              "      border-top-color: var(--fill-color);\n",
              "    }\n",
              "    30% {\n",
              "      border-color: transparent;\n",
              "      border-left-color: var(--fill-color);\n",
              "      border-top-color: var(--fill-color);\n",
              "      border-right-color: var(--fill-color);\n",
              "    }\n",
              "    40% {\n",
              "      border-color: transparent;\n",
              "      border-right-color: var(--fill-color);\n",
              "      border-top-color: var(--fill-color);\n",
              "    }\n",
              "    60% {\n",
              "      border-color: transparent;\n",
              "      border-right-color: var(--fill-color);\n",
              "    }\n",
              "    80% {\n",
              "      border-color: transparent;\n",
              "      border-right-color: var(--fill-color);\n",
              "      border-bottom-color: var(--fill-color);\n",
              "    }\n",
              "    90% {\n",
              "      border-color: transparent;\n",
              "      border-bottom-color: var(--fill-color);\n",
              "    }\n",
              "  }\n",
              "</style>\n",
              "\n",
              "  <script>\n",
              "    async function quickchart(key) {\n",
              "      const quickchartButtonEl =\n",
              "        document.querySelector('#' + key + ' button');\n",
              "      quickchartButtonEl.disabled = true;  // To prevent multiple clicks.\n",
              "      quickchartButtonEl.classList.add('colab-df-spinner');\n",
              "      try {\n",
              "        const charts = await google.colab.kernel.invokeFunction(\n",
              "            'suggestCharts', [key], {});\n",
              "      } catch (error) {\n",
              "        console.error('Error during call to suggestCharts:', error);\n",
              "      }\n",
              "      quickchartButtonEl.classList.remove('colab-df-spinner');\n",
              "      quickchartButtonEl.classList.add('colab-df-quickchart-complete');\n",
              "    }\n",
              "    (() => {\n",
              "      let quickchartButtonEl =\n",
              "        document.querySelector('#df-c1bf4814-e1bf-4950-b510-fa02cf83cf5c button');\n",
              "      quickchartButtonEl.style.display =\n",
              "        google.colab.kernel.accessAllowed ? 'block' : 'none';\n",
              "    })();\n",
              "  </script>\n",
              "</div>\n",
              "    </div>\n",
              "  </div>\n"
            ]
          },
          "metadata": {},
          "execution_count": 20
        }
      ]
    },
    {
      "cell_type": "code",
      "source": [
        "resampled_data = resampled_data.reset_index()\n",
        "resampled_data.info()"
      ],
      "metadata": {
        "colab": {
          "base_uri": "https://localhost:8080/"
        },
        "id": "_UCJkaSMmU9h",
        "outputId": "d4c7263f-7ad8-49e9-a0f3-b909a85c5f3e"
      },
      "execution_count": 21,
      "outputs": [
        {
          "output_type": "stream",
          "name": "stdout",
          "text": [
            "<class 'pandas.core.frame.DataFrame'>\n",
            "RangeIndex: 1000000 entries, 0 to 999999\n",
            "Data columns (total 28 columns):\n",
            " #   Column                 Non-Null Count    Dtype  \n",
            "---  ------                 --------------    -----  \n",
            " 0   index                  1000000 non-null  int64  \n",
            " 1   id                     1000000 non-null  object \n",
            " 2   state                  1000000 non-null  object \n",
            " 3   stop_date              1000000 non-null  object \n",
            " 4   stop_time              36599 non-null    object \n",
            " 5   location_raw           964571 non-null   object \n",
            " 6   county_name            517024 non-null   object \n",
            " 7   county_fips            517024 non-null   float64\n",
            " 8   fine_grained_location  98130 non-null    object \n",
            " 9   police_department      1000000 non-null  object \n",
            " 10  driver_gender          1000000 non-null  object \n",
            " 11  driver_age_raw         1000000 non-null  float64\n",
            " 12  driver_age             999760 non-null   float64\n",
            " 13  driver_race_raw        1000000 non-null  object \n",
            " 14  driver_race            1000000 non-null  object \n",
            " 15  violation_raw          1000000 non-null  object \n",
            " 16  violation              1000000 non-null  object \n",
            " 17  search_conducted       1000000 non-null  bool   \n",
            " 18  search_type_raw        7136 non-null     object \n",
            " 19  search_type            7136 non-null     object \n",
            " 20  contraband_found       1000000 non-null  bool   \n",
            " 21  stop_outcome           1000000 non-null  object \n",
            " 22  is_arrested            1000000 non-null  bool   \n",
            " 23  search_basis           7126 non-null     object \n",
            " 24  officer_id             964984 non-null   object \n",
            " 25  drugs_related_stop     724 non-null      object \n",
            " 26  ethnicity              1000000 non-null  object \n",
            " 27  district               964571 non-null   object \n",
            "dtypes: bool(3), float64(3), int64(1), object(21)\n",
            "memory usage: 193.6+ MB\n"
          ]
        }
      ]
    },
    {
      "cell_type": "markdown",
      "source": [
        "## **Stop rates**\n",
        "### **Part A**\n",
        "\n",
        "Using the SOPP dataset.  For each possible group defined by race, age, gender where:\n",
        "race is one of “Asian”, “Black”, “Hispanic”, “White”\n",
        "age is one of the buckets 15–19, 20–29, 30–39, 40–49, and 50+.\n",
        "gender is one of “female”, “male”\n",
        "   - Report the percentage of the Arrested (`is_arrested`) per each category, where percentage is calculated based on the total number of samples from that category. For example if 10 Asian drivers are arrested and there are 100 Asian drivers in the SOPP dataset, the percentage would be 10%."
      ],
      "metadata": {
        "id": "J4lkjm3zFE4S"
      }
    },
    {
      "cell_type": "markdown",
      "source": [
        "Let's start by looking at the no. of arrests in our data"
      ],
      "metadata": {
        "id": "fz_Dl8_KPoEF"
      }
    },
    {
      "cell_type": "code",
      "source": [
        "resampled_data.is_arrested.value_counts(dropna=False).sort_values(ascending=False)"
      ],
      "metadata": {
        "colab": {
          "base_uri": "https://localhost:8080/"
        },
        "id": "p5YCFomO1Rk_",
        "outputId": "3f44664c-6080-4a92-898b-27242474a61b"
      },
      "execution_count": 22,
      "outputs": [
        {
          "output_type": "execute_result",
          "data": {
            "text/plain": [
              "False    986406\n",
              "True      13594\n",
              "Name: is_arrested, dtype: int64"
            ]
          },
          "metadata": {},
          "execution_count": 22
        }
      ]
    },
    {
      "cell_type": "markdown",
      "source": [
        "There are 13,594 arrests out of the 1,000,000 stops randomly sampled in the data i.e. 1.35% of total stops. Let's analyze these in terms of race, gender and age"
      ],
      "metadata": {
        "id": "fAzRmVKuVr6R"
      }
    },
    {
      "cell_type": "code",
      "source": [
        "resampled_data.driver_race.value_counts(dropna=False).sort_values(ascending=False)"
      ],
      "metadata": {
        "colab": {
          "base_uri": "https://localhost:8080/"
        },
        "id": "U0XJZuJYFi5J",
        "outputId": "7064d948-d84b-4476-f00d-adab93102ac1"
      },
      "execution_count": 23,
      "outputs": [
        {
          "output_type": "execute_result",
          "data": {
            "text/plain": [
              "White       661444\n",
              "Black       236489\n",
              "Hispanic     68604\n",
              "Other        25674\n",
              "Asian         7789\n",
              "Name: driver_race, dtype: int64"
            ]
          },
          "metadata": {},
          "execution_count": 23
        }
      ]
    },
    {
      "cell_type": "code",
      "source": [
        "total_drivers_race = resampled_data.driver_race.value_counts()\n",
        "total_arrested_drivers_race = resampled_data.loc[resampled_data.is_arrested == True].driver_race.value_counts()\n",
        "\n",
        "driver_race_percentage = total_arrested_drivers_race/total_drivers_race\n",
        "driver_race_percentage"
      ],
      "metadata": {
        "colab": {
          "base_uri": "https://localhost:8080/"
        },
        "id": "BXGPiR-4Jk2I",
        "outputId": "dcf9abc8-c5e2-44e9-e33b-3c0d626a6eb1"
      },
      "execution_count": 24,
      "outputs": [
        {
          "output_type": "execute_result",
          "data": {
            "text/plain": [
              "White       0.011112\n",
              "Black       0.016060\n",
              "Hispanic    0.029299\n",
              "Other       0.014723\n",
              "Asian       0.007446\n",
              "Name: driver_race, dtype: float64"
            ]
          },
          "metadata": {},
          "execution_count": 24
        }
      ]
    },
    {
      "cell_type": "code",
      "source": [
        "driver_race_percentage.index"
      ],
      "metadata": {
        "colab": {
          "base_uri": "https://localhost:8080/"
        },
        "id": "n0bV0eKjFyJ6",
        "outputId": "3a490719-eb81-4c47-b781-1f6475ab7e26"
      },
      "execution_count": 25,
      "outputs": [
        {
          "output_type": "execute_result",
          "data": {
            "text/plain": [
              "Index(['White', 'Black', 'Hispanic', 'Other', 'Asian'], dtype='object')"
            ]
          },
          "metadata": {},
          "execution_count": 25
        }
      ]
    },
    {
      "cell_type": "code",
      "source": [
        "import matplotlib.pyplot as plt\n",
        "\n",
        "plt.figure(figsize=(10,6))\n",
        "labels = driver_race_percentage.index\n",
        "\n",
        "plt.plot(labels, driver_race_percentage * 100, marker='o')\n",
        "\n",
        "plt.title('Driver Arrest % among different races')\n",
        "plt.xlabel('Race')\n",
        "plt.ylabel('Arrest %')\n",
        "\n",
        "plt.grid(True)\n",
        "plt.show()"
      ],
      "metadata": {
        "colab": {
          "base_uri": "https://localhost:8080/",
          "height": 424
        },
        "id": "IQtHOugUFh_R",
        "outputId": "48b3f7aa-bcb9-45a0-b410-b19e9ce5d5de"
      },
      "execution_count": 26,
      "outputs": [
        {
          "output_type": "display_data",
          "data": {
            "text/plain": [
              "<Figure size 1000x600 with 1 Axes>"
            ],
            "image/png": "[encoded data removed]"
          },
          "metadata": {}
        }
      ]
    },
    {
      "cell_type": "markdown",
      "source": [
        "The data shows that Hispanic drivers when stopped are more likely to be arrested at 2.9% almolst twice as likely as Black drivers at 1.6% and almost 3 times more likely as White drivers at 1.1%. Asian drivers the least likely to be arrested with only 0.8% of the drivers being arrested post stops.\n",
        "\n",
        "\n",
        "**Percentages** <br>\n",
        "\n",
        "**White: 1.111%** <br>\n",
        "**Black: 1.606%** <br>\n",
        "**Hispanic: 2.929%** <br>\n",
        "**Other: 1.472%** <br>\n",
        "**Asian: 0.745%** <br>"
      ],
      "metadata": {
        "id": "mJGvNhoWWbkv"
      }
    },
    {
      "cell_type": "code",
      "source": [
        "resampled_data.driver_age.value_counts(dropna=False).sort_values(ascending=False)"
      ],
      "metadata": {
        "colab": {
          "base_uri": "https://localhost:8080/"
        },
        "id": "SOwLsK9cLSX3",
        "outputId": "bb85d654-20de-4913-9732-4851cc492a91"
      },
      "execution_count": 27,
      "outputs": [
        {
          "output_type": "execute_result",
          "data": {
            "text/plain": [
              "21.0    36121\n",
              "20.0    35712\n",
              "22.0    35541\n",
              "19.0    34177\n",
              "23.0    33870\n",
              "        ...  \n",
              "95.0        9\n",
              "99.0        7\n",
              "96.0        5\n",
              "97.0        5\n",
              "98.0        3\n",
              "Name: driver_age, Length: 86, dtype: int64"
            ]
          },
          "metadata": {},
          "execution_count": 27
        }
      ]
    },
    {
      "cell_type": "code",
      "source": [
        "resampled_data.driver_age.isnull().sum()"
      ],
      "metadata": {
        "colab": {
          "base_uri": "https://localhost:8080/"
        },
        "id": "HrAx3qxjZkDr",
        "outputId": "efa15117-214d-46d4-ca08-4a59786c14e8"
      },
      "execution_count": 28,
      "outputs": [
        {
          "output_type": "execute_result",
          "data": {
            "text/plain": [
              "240"
            ]
          },
          "metadata": {},
          "execution_count": 28
        }
      ]
    },
    {
      "cell_type": "markdown",
      "source": [
        "There are 240 NULL values in age. Let's replace these values with the mean age plus or minus standard deviation"
      ],
      "metadata": {
        "id": "HD2khOJYZoGZ"
      }
    },
    {
      "cell_type": "code",
      "source": [
        "# Assuming df is your DataFrame and \"age\" is your column of interest\n",
        "mean = resampled_data['driver_age'].mean()\n",
        "std = resampled_data['driver_age'].std()\n",
        "\n",
        "# Get the number of null values\n",
        "num_nulls = resampled_data['driver_age'].isnull().sum()\n",
        "\n",
        "# Generate random values within one standard deviation of the mean\n",
        "random_ages = np.random.randint(mean - std, mean + std, size=num_nulls)\n",
        "\n",
        "# Replace null values with the generated random values\n",
        "resampled_data['driver_age'][np.isnan(resampled_data['driver_age'])] = random_ages"
      ],
      "metadata": {
        "colab": {
          "base_uri": "https://localhost:8080/"
        },
        "id": "SzRKW1BdbAso",
        "outputId": "1389cf79-027a-42cb-c004-c5cd7fb88b8a"
      },
      "execution_count": 29,
      "outputs": [
        {
          "output_type": "stream",
          "name": "stderr",
          "text": [
            "<ipython-input-29-c97b5bf85064>:12: SettingWithCopyWarning: \n",
            "A value is trying to be set on a copy of a slice from a DataFrame\n",
            "\n",
            "See the caveats in the documentation: https://pandas.pydata.org/pandas-docs/stable/user_guide/indexing.html#returning-a-view-versus-a-copy\n",
            "  resampled_data['driver_age'][np.isnan(resampled_data['driver_age'])] = random_ages\n"
          ]
        }
      ]
    },
    {
      "cell_type": "code",
      "source": [
        "resampled_data.driver_age.isnull().sum()"
      ],
      "metadata": {
        "colab": {
          "base_uri": "https://localhost:8080/"
        },
        "id": "dUqTBeykcIIi",
        "outputId": "6a070f3b-899c-429c-a197-d73da1a4793d"
      },
      "execution_count": 30,
      "outputs": [
        {
          "output_type": "execute_result",
          "data": {
            "text/plain": [
              "0"
            ]
          },
          "metadata": {},
          "execution_count": 30
        }
      ]
    },
    {
      "cell_type": "code",
      "source": [
        "resampled_data.driver_age.value_counts(dropna=False).sort_values(ascending=False)"
      ],
      "metadata": {
        "colab": {
          "base_uri": "https://localhost:8080/"
        },
        "id": "NkgbIqe_cLwE",
        "outputId": "97d18d58-a243-4a48-f524-b43d73c0cfc9"
      },
      "execution_count": 31,
      "outputs": [
        {
          "output_type": "execute_result",
          "data": {
            "text/plain": [
              "21.0    36135\n",
              "20.0    35712\n",
              "22.0    35549\n",
              "19.0    34177\n",
              "23.0    33876\n",
              "        ...  \n",
              "95.0        9\n",
              "99.0        7\n",
              "96.0        5\n",
              "97.0        5\n",
              "98.0        3\n",
              "Name: driver_age, Length: 85, dtype: int64"
            ]
          },
          "metadata": {},
          "execution_count": 31
        }
      ]
    },
    {
      "cell_type": "code",
      "source": [
        "# Define the boundaries of your age buckets\n",
        "bins = [0, 15, 20, 30, 40, 50, 120]\n",
        "\n",
        "# Create labels for your age buckets\n",
        "labels = ['<15', '15-19', '20-29', '30-39', '40-49', '50+']\n",
        "\n",
        "# Create a new column 'age_bucket' in df\n",
        "resampled_data['driver_age_bucket'] = pd.cut(resampled_data['driver_age'], bins=bins, labels=labels, include_lowest=True, right=False)\n",
        "resampled_data.head(5)"
      ],
      "metadata": {
        "colab": {
          "base_uri": "https://localhost:8080/",
          "height": 429
        },
        "id": "Si8KJnaNLb1T",
        "outputId": "37df081c-d818-460c-eaa8-575d3f9ccf1b"
      },
      "execution_count": 32,
      "outputs": [
        {
          "output_type": "execute_result",
          "data": {
            "text/plain": [
              "     index              id state   stop_date stop_time location_raw  \\\n",
              "0  2071087  NC-2004-071406    NC  2004-03-03       NaN           E4   \n",
              "1  3990192  NC-2008-195265    NC  2008-04-10       NaN           B2   \n",
              "2  5050121  NC-2009-580025    NC  2009-11-19       NaN           F2   \n",
              "3  4458735  NC-2008-663808    NC  2008-12-24       NaN           D6   \n",
              "4  8040542  NC-2013-472450    NC  2013-08-24       NaN       Durham   \n",
              "\n",
              "       county_name  county_fips fine_grained_location  \\\n",
              "0   Forsyth County      37067.0         WINSTON SALEM   \n",
              "1   Sampson County      37163.0                   NaN   \n",
              "2              NaN          NaN                   NaN   \n",
              "3  Randolph County      37151.0              asheboro   \n",
              "4    Durham County      37063.0                   NaN   \n",
              "\n",
              "         police_department  ... search_type  contraband_found  \\\n",
              "0  NC State Highway Patrol  ...         NaN             False   \n",
              "1  NC State Highway Patrol  ...         NaN             False   \n",
              "2  NC State Highway Patrol  ...         NaN             False   \n",
              "3  NC State Highway Patrol  ...         NaN             False   \n",
              "4  NC State Highway Patrol  ...         NaN             False   \n",
              "\n",
              "      stop_outcome is_arrested search_basis officer_id drugs_related_stop  \\\n",
              "0         Citation       False          NaN      10607                NaN   \n",
              "1         Citation       False          NaN      10303                NaN   \n",
              "2         Citation       False          NaN      21323                NaN   \n",
              "3         Citation       False          NaN      10654                NaN   \n",
              "4  Written Warning       False          NaN      21549                NaN   \n",
              "\n",
              "   ethnicity district driver_age_bucket  \n",
              "0          N       E4             30-39  \n",
              "1          N       B2             15-19  \n",
              "2          N       F2             30-39  \n",
              "3          N       D6             30-39  \n",
              "4          H       C7             20-29  \n",
              "\n",
              "[5 rows x 29 columns]"
            ],
            "text/html": [
              "\n",
              "  <div id=\"df-0137e9c5-ae66-4c3f-a225-c81fa4d63c6d\" class=\"colab-df-container\">\n",
              "    <div>\n",
              "<style scoped>\n",
              "    .dataframe tbody tr th:only-of-type {\n",
              "        vertical-align: middle;\n",
              "    }\n",
              "\n",
              "    .dataframe tbody tr th {\n",
              "        vertical-align: top;\n",
              "    }\n",
              "\n",
              "    .dataframe thead th {\n",
              "        text-align: right;\n",
              "    }\n",
              "</style>\n",
              "<table border=\"1\" class=\"dataframe\">\n",
              "  <thead>\n",
              "    <tr style=\"text-align: right;\">\n",
              "      <th></th>\n",
              "      <th>index</th>\n",
              "      <th>id</th>\n",
              "      <th>state</th>\n",
              "      <th>stop_date</th>\n",
              "      <th>stop_time</th>\n",
              "      <th>location_raw</th>\n",
              "      <th>county_name</th>\n",
              "      <th>county_fips</th>\n",
              "      <th>fine_grained_location</th>\n",
              "      <th>police_department</th>\n",
              "      <th>...</th>\n",
              "      <th>search_type</th>\n",
              "      <th>contraband_found</th>\n",
              "      <th>stop_outcome</th>\n",
              "      <th>is_arrested</th>\n",
              "      <th>search_basis</th>\n",
              "      <th>officer_id</th>\n",
              "      <th>drugs_related_stop</th>\n",
              "      <th>ethnicity</th>\n",
              "      <th>district</th>\n",
              "      <th>driver_age_bucket</th>\n",
              "    </tr>\n",
              "  </thead>\n",
              "  <tbody>\n",
              "    <tr>\n",
              "      <th>0</th>\n",
              "      <td>2071087</td>\n",
              "      <td>NC-2004-071406</td>\n",
              "      <td>NC</td>\n",
              "      <td>2004-03-03</td>\n",
              "      <td>NaN</td>\n",
              "      <td>E4</td>\n",
              "      <td>Forsyth County</td>\n",
              "      <td>37067.0</td>\n",
              "      <td>WINSTON SALEM</td>\n",
              "      <td>NC State Highway Patrol</td>\n",
              "      <td>...</td>\n",
              "      <td>NaN</td>\n",
              "      <td>False</td>\n",
              "      <td>Citation</td>\n",
              "      <td>False</td>\n",
              "      <td>NaN</td>\n",
              "      <td>10607</td>\n",
              "      <td>NaN</td>\n",
              "      <td>N</td>\n",
              "      <td>E4</td>\n",
              "      <td>30-39</td>\n",
              "    </tr>\n",
              "    <tr>\n",
              "      <th>1</th>\n",
              "      <td>3990192</td>\n",
              "      <td>NC-2008-195265</td>\n",
              "      <td>NC</td>\n",
              "      <td>2008-04-10</td>\n",
              "      <td>NaN</td>\n",
              "      <td>B2</td>\n",
              "      <td>Sampson County</td>\n",
              "      <td>37163.0</td>\n",
              "      <td>NaN</td>\n",
              "      <td>NC State Highway Patrol</td>\n",
              "      <td>...</td>\n",
              "      <td>NaN</td>\n",
              "      <td>False</td>\n",
              "      <td>Citation</td>\n",
              "      <td>False</td>\n",
              "      <td>NaN</td>\n",
              "      <td>10303</td>\n",
              "      <td>NaN</td>\n",
              "      <td>N</td>\n",
              "      <td>B2</td>\n",
              "      <td>15-19</td>\n",
              "    </tr>\n",
              "    <tr>\n",
              "      <th>2</th>\n",
              "      <td>5050121</td>\n",
              "      <td>NC-2009-580025</td>\n",
              "      <td>NC</td>\n",
              "      <td>2009-11-19</td>\n",
              "      <td>NaN</td>\n",
              "      <td>F2</td>\n",
              "      <td>NaN</td>\n",
              "      <td>NaN</td>\n",
              "      <td>NaN</td>\n",
              "      <td>NC State Highway Patrol</td>\n",
              "      <td>...</td>\n",
              "      <td>NaN</td>\n",
              "      <td>False</td>\n",
              "      <td>Citation</td>\n",
              "      <td>False</td>\n",
              "      <td>NaN</td>\n",
              "      <td>21323</td>\n",
              "      <td>NaN</td>\n",
              "      <td>N</td>\n",
              "      <td>F2</td>\n",
              "      <td>30-39</td>\n",
              "    </tr>\n",
              "    <tr>\n",
              "      <th>3</th>\n",
              "      <td>4458735</td>\n",
              "      <td>NC-2008-663808</td>\n",
              "      <td>NC</td>\n",
              "      <td>2008-12-24</td>\n",
              "      <td>NaN</td>\n",
              "      <td>D6</td>\n",
              "      <td>Randolph County</td>\n",
              "      <td>37151.0</td>\n",
              "      <td>asheboro</td>\n",
              "      <td>NC State Highway Patrol</td>\n",
              "      <td>...</td>\n",
              "      <td>NaN</td>\n",
              "      <td>False</td>\n",
              "      <td>Citation</td>\n",
              "      <td>False</td>\n",
              "      <td>NaN</td>\n",
              "      <td>10654</td>\n",
              "      <td>NaN</td>\n",
              "      <td>N</td>\n",
              "      <td>D6</td>\n",
              "      <td>30-39</td>\n",
              "    </tr>\n",
              "    <tr>\n",
              "      <th>4</th>\n",
              "      <td>8040542</td>\n",
              "      <td>NC-2013-472450</td>\n",
              "      <td>NC</td>\n",
              "      <td>2013-08-24</td>\n",
              "      <td>NaN</td>\n",
              "      <td>Durham</td>\n",
              "      <td>Durham County</td>\n",
              "      <td>37063.0</td>\n",
              "      <td>NaN</td>\n",
              "      <td>NC State Highway Patrol</td>\n",
              "      <td>...</td>\n",
              "      <td>NaN</td>\n",
              "      <td>False</td>\n",
              "      <td>Written Warning</td>\n",
              "      <td>False</td>\n",
              "      <td>NaN</td>\n",
              "      <td>21549</td>\n",
              "      <td>NaN</td>\n",
              "      <td>H</td>\n",
              "      <td>C7</td>\n",
              "      <td>20-29</td>\n",
              "    </tr>\n",
              "  </tbody>\n",
              "</table>\n",
              "<p>5 rows × 29 columns</p>\n",
              "</div>\n",
              "    <div class=\"colab-df-buttons\">\n",
              "\n",
              "  <div class=\"colab-df-container\">\n",
              "    <button class=\"colab-df-convert\" onclick=\"convertToInteractive('df-0137e9c5-ae66-4c3f-a225-c81fa4d63c6d')\"\n",
              "            title=\"Convert this dataframe to an interactive table.\"\n",
              "            style=\"display:none;\">\n",
              "\n",
              "  <svg xmlns=\"http://www.w3.org/2000/svg\" height=\"24px\" viewBox=\"0 -960 960 960\">\n",
              "    <path d=\"M120-120v-720h720v720H120Zm60-500h600v-160H180v160Zm220 220h160v-160H400v160Zm0 220h160v-160H400v160ZM180-400h160v-160H180v160Zm440 0h160v-160H620v160ZM180-180h160v-160H180v160Zm440 0h160v-160H620v160Z\"/>\n",
              "  </svg>\n",
              "    </button>\n",
              "\n",
              "  <style>\n",
              "    .colab-df-container {\n",
              "      display:flex;\n",
              "      gap: 12px;\n",
              "    }\n",
              "\n",
              "    .colab-df-convert {\n",
              "      background-color: #E8F0FE;\n",
              "      border: none;\n",
              "      border-radius: 50%;\n",
              "      cursor: pointer;\n",
              "      display: none;\n",
              "      fill: #1967D2;\n",
              "      height: 32px;\n",
              "      padding: 0 0 0 0;\n",
              "      width: 32px;\n",
              "    }\n",
              "\n",
              "    .colab-df-convert:hover {\n",
              "      background-color: #E2EBFA;\n",
              "      box-shadow: 0px 1px 2px rgba(60, 64, 67, 0.3), 0px 1px 3px 1px rgba(60, 64, 67, 0.15);\n",
              "      fill: #174EA6;\n",
              "    }\n",
              "\n",
              "    .colab-df-buttons div {\n",
              "      margin-bottom: 4px;\n",
              "    }\n",
              "\n",
              "    [theme=dark] .colab-df-convert {\n",
              "      background-color: #3B4455;\n",
              "      fill: #D2E3FC;\n",
              "    }\n",
              "\n",
              "    [theme=dark] .colab-df-convert:hover {\n",
              "      background-color: #434B5C;\n",
              "      box-shadow: 0px 1px 3px 1px rgba(0, 0, 0, 0.15);\n",
              "      filter: drop-shadow(0px 1px 2px rgba(0, 0, 0, 0.3));\n",
              "      fill: #FFFFFF;\n",
              "    }\n",
              "  </style>\n",
              "\n",
              "    <script>\n",
              "      const buttonEl =\n",
              "        document.querySelector('#df-0137e9c5-ae66-4c3f-a225-c81fa4d63c6d button.colab-df-convert');\n",
              "      buttonEl.style.display =\n",
              "        google.colab.kernel.accessAllowed ? 'block' : 'none';\n",
              "\n",
              "      async function convertToInteractive(key) {\n",
              "        const element = document.querySelector('#df-0137e9c5-ae66-4c3f-a225-c81fa4d63c6d');\n",
              "        const dataTable =\n",
              "          await google.colab.kernel.invokeFunction('convertToInteractive',\n",
              "                                                    [key], {});\n",
              "        if (!dataTable) return;\n",
              "\n",
              "        const docLinkHtml = 'Like what you see? Visit the ' +\n",
              "          '<a target=\"_blank\" href=https://colab.research.google.com/notebooks/data_table.ipynb>data table notebook</a>'\n",
              "          + ' to learn more about interactive tables.';\n",
              "        element.innerHTML = '';\n",
              "        dataTable['output_type'] = 'display_data';\n",
              "        await google.colab.output.renderOutput(dataTable, element);\n",
              "        const docLink = document.createElement('div');\n",
              "        docLink.innerHTML = docLinkHtml;\n",
              "        element.appendChild(docLink);\n",
              "      }\n",
              "    </script>\n",
              "  </div>\n",
              "\n",
              "\n",
              "<div id=\"df-63984477-d7a8-48ce-9a4e-0ec600e32ea5\">\n",
              "  <button class=\"colab-df-quickchart\" onclick=\"quickchart('df-63984477-d7a8-48ce-9a4e-0ec600e32ea5')\"\n",
              "            title=\"Suggest charts.\"\n",
              "            style=\"display:none;\">\n",
              "\n",
              "<svg xmlns=\"http://www.w3.org/2000/svg\" height=\"24px\"viewBox=\"0 0 24 24\"\n",
              "     width=\"24px\">\n",
              "    <g>\n",
              "        <path d=\"M19 3H5c-1.1 0-2 .9-2 2v14c0 1.1.9 2 2 2h14c1.1 0 2-.9 2-2V5c0-1.1-.9-2-2-2zM9 17H7v-7h2v7zm4 0h-2V7h2v10zm4 0h-2v-4h2v4z\"/>\n",
              "    </g>\n",
              "</svg>\n",
              "  </button>\n",
              "\n",
              "<style>\n",
              "  .colab-df-quickchart {\n",
              "      --bg-color: #E8F0FE;\n",
              "      --fill-color: #1967D2;\n",
              "      --hover-bg-color: #E2EBFA;\n",
              "      --hover-fill-color: #174EA6;\n",
              "      --disabled-fill-color: #AAA;\n",
              "      --disabled-bg-color: #DDD;\n",
              "  }\n",
              "\n",
              "  [theme=dark] .colab-df-quickchart {\n",
              "      --bg-color: #3B4455;\n",
              "      --fill-color: #D2E3FC;\n",
              "      --hover-bg-color: #434B5C;\n",
              "      --hover-fill-color: #FFFFFF;\n",
              "      --disabled-bg-color: #3B4455;\n",
              "      --disabled-fill-color: #666;\n",
              "  }\n",
              "\n",
              "  .colab-df-quickchart {\n",
              "    background-color: var(--bg-color);\n",
              "    border: none;\n",
              "    border-radius: 50%;\n",
              "    cursor: pointer;\n",
              "    display: none;\n",
              "    fill: var(--fill-color);\n",
              "    height: 32px;\n",
              "    padding: 0;\n",
              "    width: 32px;\n",
              "  }\n",
              "\n",
              "  .colab-df-quickchart:hover {\n",
              "    background-color: var(--hover-bg-color);\n",
              "    box-shadow: 0 1px 2px rgba(60, 64, 67, 0.3), 0 1px 3px 1px rgba(60, 64, 67, 0.15);\n",
              "    fill: var(--button-hover-fill-color);\n",
              "  }\n",
              "\n",
              "  .colab-df-quickchart-complete:disabled,\n",
              "  .colab-df-quickchart-complete:disabled:hover {\n",
              "    background-color: var(--disabled-bg-color);\n",
              "    fill: var(--disabled-fill-color);\n",
              "    box-shadow: none;\n",
              "  }\n",
              "\n",
              "  .colab-df-spinner {\n",
              "    border: 2px solid var(--fill-color);\n",
              "    border-color: transparent;\n",
              "    border-bottom-color: var(--fill-color);\n",
              "    animation:\n",
              "      spin 1s steps(1) infinite;\n",
              "  }\n",
              "\n",
              "  @keyframes spin {\n",
              "    0% {\n",
              "      border-color: transparent;\n",
              "      border-bottom-color: var(--fill-color);\n",
              "      border-left-color: var(--fill-color);\n",
              "    }\n",
              "    20% {\n",
              "      border-color: transparent;\n",
              "      border-left-color: var(--fill-color);\n",
              "      border-top-color: var(--fill-color);\n",
              "    }\n",
              "    30% {\n",
              "      border-color: transparent;\n",
              "      border-left-color: var(--fill-color);\n",
              "      border-top-color: var(--fill-color);\n",
              "      border-right-color: var(--fill-color);\n",
              "    }\n",
              "    40% {\n",
              "      border-color: transparent;\n",
              "      border-right-color: var(--fill-color);\n",
              "      border-top-color: var(--fill-color);\n",
              "    }\n",
              "    60% {\n",
              "      border-color: transparent;\n",
              "      border-right-color: var(--fill-color);\n",
              "    }\n",
              "    80% {\n",
              "      border-color: transparent;\n",
              "      border-right-color: var(--fill-color);\n",
              "      border-bottom-color: var(--fill-color);\n",
              "    }\n",
              "    90% {\n",
              "      border-color: transparent;\n",
              "      border-bottom-color: var(--fill-color);\n",
              "    }\n",
              "  }\n",
              "</style>\n",
              "\n",
              "  <script>\n",
              "    async function quickchart(key) {\n",
              "      const quickchartButtonEl =\n",
              "        document.querySelector('#' + key + ' button');\n",
              "      quickchartButtonEl.disabled = true;  // To prevent multiple clicks.\n",
              "      quickchartButtonEl.classList.add('colab-df-spinner');\n",
              "      try {\n",
              "        const charts = await google.colab.kernel.invokeFunction(\n",
              "            'suggestCharts', [key], {});\n",
              "      } catch (error) {\n",
              "        console.error('Error during call to suggestCharts:', error);\n",
              "      }\n",
              "      quickchartButtonEl.classList.remove('colab-df-spinner');\n",
              "      quickchartButtonEl.classList.add('colab-df-quickchart-complete');\n",
              "    }\n",
              "    (() => {\n",
              "      let quickchartButtonEl =\n",
              "        document.querySelector('#df-63984477-d7a8-48ce-9a4e-0ec600e32ea5 button');\n",
              "      quickchartButtonEl.style.display =\n",
              "        google.colab.kernel.accessAllowed ? 'block' : 'none';\n",
              "    })();\n",
              "  </script>\n",
              "</div>\n",
              "    </div>\n",
              "  </div>\n"
            ]
          },
          "metadata": {},
          "execution_count": 32
        }
      ]
    },
    {
      "cell_type": "code",
      "source": [
        "total_drivers_age = resampled_data.driver_age_bucket.value_counts()\n",
        "total_arrested_drivers_age = resampled_data.loc[resampled_data.is_arrested == True].driver_age_bucket.value_counts()\n",
        "\n",
        "driver_age_percentage = total_arrested_drivers_age/total_drivers_age\n",
        "driver_age_percentage"
      ],
      "metadata": {
        "colab": {
          "base_uri": "https://localhost:8080/"
        },
        "id": "fFD0ChTx14uE",
        "outputId": "47299cc5-937a-4005-e517-f4d07ed9c974"
      },
      "execution_count": 33,
      "outputs": [
        {
          "output_type": "execute_result",
          "data": {
            "text/plain": [
              "20-29    0.016652\n",
              "30-39    0.015240\n",
              "40-49    0.013527\n",
              "50+      0.008239\n",
              "15-19    0.009071\n",
              "<15           NaN\n",
              "Name: driver_age_bucket, dtype: float64"
            ]
          },
          "metadata": {},
          "execution_count": 33
        }
      ]
    },
    {
      "cell_type": "code",
      "source": [
        "import matplotlib.pyplot as plt\n",
        "\n",
        "# Define the order of labels\n",
        "labels_order = ['<15', '15-19', '20-29', '30-39', '40-49', '50+']\n",
        "\n",
        "# Arrange the Series by this order of labels\n",
        "driver_age_percentage = driver_age_percentage.reindex(labels_order)\n",
        "\n",
        "plt.figure(figsize=(10,6))\n",
        "labels = driver_age_percentage.index\n",
        "\n",
        "plt.plot(labels, driver_age_percentage * 100, marker='o', color='red')\n",
        "\n",
        "plt.title('Driver Arrest % among different ages')\n",
        "plt.xlabel('Age')\n",
        "plt.ylabel('Arrest %')\n",
        "\n",
        "plt.grid(True)\n",
        "plt.show()"
      ],
      "metadata": {
        "colab": {
          "base_uri": "https://localhost:8080/",
          "height": 424
        },
        "id": "SjiLC8TwHQWD",
        "outputId": "3c8221fb-9712-48fc-a68a-2cd994bf2d93"
      },
      "execution_count": 34,
      "outputs": [
        {
          "output_type": "display_data",
          "data": {
            "text/plain": [
              "<Figure size 1000x600 with 1 Axes>"
            ],
            "image/png": "[encoded data removed]"
          },
          "metadata": {}
        }
      ]
    },
    {
      "cell_type": "markdown",
      "source": [
        "Per the data and graph arrests are most likely in the 20-29 age demographic at ~1.7% of stops resulting in arrests. The trend of arrests decreases as the demographic goes up with 50+ aged drivers having the lowest arrest% at 0.5%.\n",
        "\n",
        "**Percentages**<br>\n",
        "\n",
        "**15-19: 0.907%** <br>\n",
        "**20-29: 1.665%** <br>\n",
        "**30-39: 1.524%** <br>\n",
        "**40-49: 1.353%** <br>\n",
        "**50+: 0.824%**   <br>"
      ],
      "metadata": {
        "id": "mFwPwhVVZZQn"
      }
    },
    {
      "cell_type": "code",
      "source": [
        "resampled_data.driver_gender.value_counts(dropna=False).sort_values(ascending=False)"
      ],
      "metadata": {
        "colab": {
          "base_uri": "https://localhost:8080/"
        },
        "id": "C-FU4D_n20SE",
        "outputId": "d5d302c7-963d-4952-9436-5592f7d2f1e2"
      },
      "execution_count": 35,
      "outputs": [
        {
          "output_type": "execute_result",
          "data": {
            "text/plain": [
              "M    669475\n",
              "F    330525\n",
              "Name: driver_gender, dtype: int64"
            ]
          },
          "metadata": {},
          "execution_count": 35
        }
      ]
    },
    {
      "cell_type": "code",
      "source": [
        "total_drivers_gender = resampled_data.driver_gender.value_counts()\n",
        "total_arrested_drivers_gender = resampled_data.loc[resampled_data.is_arrested == True].driver_gender.value_counts()\n",
        "\n",
        "driver_gender_percentage = total_arrested_drivers_gender/total_drivers_gender\n",
        "driver_gender_percentage"
      ],
      "metadata": {
        "colab": {
          "base_uri": "https://localhost:8080/"
        },
        "id": "ivBnPHLM27c4",
        "outputId": "75ebdb83-e879-4891-c890-f639112f5644"
      },
      "execution_count": 36,
      "outputs": [
        {
          "output_type": "execute_result",
          "data": {
            "text/plain": [
              "M    0.016776\n",
              "F    0.007149\n",
              "Name: driver_gender, dtype: float64"
            ]
          },
          "metadata": {},
          "execution_count": 36
        }
      ]
    },
    {
      "cell_type": "code",
      "source": [
        "import matplotlib.pyplot as plt\n",
        "\n",
        "plt.figure(figsize=(10,6))\n",
        "labels = driver_gender_percentage.index\n",
        "\n",
        "# plt.plot(labels, driver_gender_percentage * 100, marker='o', color='green')\n",
        "\n",
        "\n",
        "(driver_gender_percentage * 100).plot.barh(color=['blue', 'red'])\n",
        "\n",
        "plt.title('Driver Arrest % among gender')\n",
        "plt.ylabel('Gender')\n",
        "plt.xlabel('Arrest %')\n",
        "\n",
        "plt.show()"
      ],
      "metadata": {
        "colab": {
          "base_uri": "https://localhost:8080/",
          "height": 429
        },
        "id": "1lwIrlKkH93o",
        "outputId": "1cdd8584-24ec-4854-b414-de4a2a60a250"
      },
      "execution_count": 37,
      "outputs": [
        {
          "output_type": "display_data",
          "data": {
            "text/plain": [
              "<Figure size 1000x600 with 1 Axes>"
            ],
            "image/png": "[encoded data removed]"
          },
          "metadata": {}
        }
      ]
    },
    {
      "cell_type": "markdown",
      "source": [
        "With gender we see that men at **1.6%** are twice as likely to be arrested than women at **0.8%**\n",
        "\n",
        "**Percentages**\n",
        "\n",
        "**Men: 1.677%** <br>\n",
        "**Women: 0.715%** <br>"
      ],
      "metadata": {
        "id": "zbG0ZC_bi9uy"
      }
    },
    {
      "cell_type": "markdown",
      "source": [
        "<br><br><br>\n",
        "\n"
      ],
      "metadata": {
        "id": "R9CVkBIXI8GL"
      }
    },
    {
      "cell_type": "markdown",
      "source": [
        "### **Part B**\n",
        "\n",
        "For each variable age, gender and race, describe(in words) what type of technique you think will be a better choice to transform the data from categorical value to numerical."
      ],
      "metadata": {
        "id": "cxsJEYirI8AH"
      }
    },
    {
      "cell_type": "markdown",
      "source": [
        "There are several encoding techniques for converting categorical data to numerical. We'll discuss how each of the variables can be converted:\n",
        "\n",
        "1. **Race:** The data in the `driver_race` column is one of 'White', 'Black', 'Hispanic', 'Other', or 'Asian'. Since this data is nominal i.e. categorical data with no natural priority or ordering, one-hot encoding would be a good choice. With one-hot encoding, a new column will be created for each category, set to 1 if the original value was infact that category or 0.\n",
        "\n",
        "2. **Age:** Here for age we are considering the buckets created above, the values contained here are '<15', '15-19', '20-29', '30-39', '40-49' and '50+'. This data can be considered as ordinal i.e. having a natural ordering, and hence ordinal encoding would be the best fit here. A unique integer value will be assigned to each value based on the order, <15 = 0, 15-19 = 1 and so on.\n",
        "\n",
        "3. **Gender:** Since this only contains 2 values 'M' and 'F', a simple label encoder can be used here i.e., assigning both category a value of 0 or 1. One-hot encoding could also work here as the data is nominal.\n"
      ],
      "metadata": {
        "id": "TtfpvJnQI7yK"
      }
    },
    {
      "cell_type": "markdown",
      "source": [
        "<br><br><br>"
      ],
      "metadata": {
        "id": "UZh26j1_nXol"
      }
    },
    {
      "cell_type": "markdown",
      "source": [
        "### **Part C**\n",
        "\n",
        "- use logistic regression model to estimate the\n",
        "  - probability of a search (`search_conducted`)\n",
        "  - probability of arrest (`is_arrested`),\n",
        "  - probability of a citation (`stop_outcome == \"Citation\"`)\n",
        "\n",
        "- For each of the three outcomes, report the coefficients of race, age, and gender along with mean squared errors. Feel free to sample the data for performance reasons, but if you do, make sure that all standard errors are < 0.1."
      ],
      "metadata": {
        "id": "Af_47Yk1nXjB"
      }
    },
    {
      "cell_type": "markdown",
      "source": [
        "#### **EDA**\n"
      ],
      "metadata": {
        "id": "gY5rYgm0y4Wz"
      }
    },
    {
      "cell_type": "code",
      "source": [
        "resampled_data.search_conducted.value_counts()"
      ],
      "metadata": {
        "colab": {
          "base_uri": "https://localhost:8080/"
        },
        "id": "zsd1ZOq4IaqI",
        "outputId": "dc6ce387-8fd1-4f67-cd30-257703872154"
      },
      "execution_count": 38,
      "outputs": [
        {
          "output_type": "execute_result",
          "data": {
            "text/plain": [
              "False    992864\n",
              "True       7136\n",
              "Name: search_conducted, dtype: int64"
            ]
          },
          "metadata": {},
          "execution_count": 38
        }
      ]
    },
    {
      "cell_type": "code",
      "source": [
        "resampled_data.describe()"
      ],
      "metadata": {
        "colab": {
          "base_uri": "https://localhost:8080/",
          "height": 300
        },
        "id": "TJa_Ng2i1JkO",
        "outputId": "084cbd40-a8c3-4500-a491-68822868d797"
      },
      "execution_count": 39,
      "outputs": [
        {
          "output_type": "execute_result",
          "data": {
            "text/plain": [
              "              index    county_fips  driver_age_raw      driver_age\n",
              "count  1.000000e+06  517024.000000  1000000.000000  1000000.000000\n",
              "mean   4.773488e+06   37098.361914       35.790821       35.796370\n",
              "std    2.761577e+06      56.901171       13.854659       13.845351\n",
              "min    2.000000e+00   37001.000000        0.000000       15.000000\n",
              "25%    2.378786e+06   37051.000000       24.000000       24.000000\n",
              "50%    4.771044e+06   37097.000000       33.000000       33.000000\n",
              "75%    7.165348e+06   37155.000000       45.000000       45.000000\n",
              "max    9.558082e+06   37199.000000      221.000000       99.000000"
            ],
            "text/html": [
              "\n",
              "  <div id=\"df-3b4a37d9-30b5-4876-8bb1-aa67f2bc6c7c\" class=\"colab-df-container\">\n",
              "    <div>\n",
              "<style scoped>\n",
              "    .dataframe tbody tr th:only-of-type {\n",
              "        vertical-align: middle;\n",
              "    }\n",
              "\n",
              "    .dataframe tbody tr th {\n",
              "        vertical-align: top;\n",
              "    }\n",
              "\n",
              "    .dataframe thead th {\n",
              "        text-align: right;\n",
              "    }\n",
              "</style>\n",
              "<table border=\"1\" class=\"dataframe\">\n",
              "  <thead>\n",
              "    <tr style=\"text-align: right;\">\n",
              "      <th></th>\n",
              "      <th>index</th>\n",
              "      <th>county_fips</th>\n",
              "      <th>driver_age_raw</th>\n",
              "      <th>driver_age</th>\n",
              "    </tr>\n",
              "  </thead>\n",
              "  <tbody>\n",
              "    <tr>\n",
              "      <th>count</th>\n",
              "      <td>1.000000e+06</td>\n",
              "      <td>517024.000000</td>\n",
              "      <td>1000000.000000</td>\n",
              "      <td>1000000.000000</td>\n",
              "    </tr>\n",
              "    <tr>\n",
              "      <th>mean</th>\n",
              "      <td>4.773488e+06</td>\n",
              "      <td>37098.361914</td>\n",
              "      <td>35.790821</td>\n",
              "      <td>35.796370</td>\n",
              "    </tr>\n",
              "    <tr>\n",
              "      <th>std</th>\n",
              "      <td>2.761577e+06</td>\n",
              "      <td>56.901171</td>\n",
              "      <td>13.854659</td>\n",
              "      <td>13.845351</td>\n",
              "    </tr>\n",
              "    <tr>\n",
              "      <th>min</th>\n",
              "      <td>2.000000e+00</td>\n",
              "      <td>37001.000000</td>\n",
              "      <td>0.000000</td>\n",
              "      <td>15.000000</td>\n",
              "    </tr>\n",
              "    <tr>\n",
              "      <th>25%</th>\n",
              "      <td>2.378786e+06</td>\n",
              "      <td>37051.000000</td>\n",
              "      <td>24.000000</td>\n",
              "      <td>24.000000</td>\n",
              "    </tr>\n",
              "    <tr>\n",
              "      <th>50%</th>\n",
              "      <td>4.771044e+06</td>\n",
              "      <td>37097.000000</td>\n",
              "      <td>33.000000</td>\n",
              "      <td>33.000000</td>\n",
              "    </tr>\n",
              "    <tr>\n",
              "      <th>75%</th>\n",
              "      <td>7.165348e+06</td>\n",
              "      <td>37155.000000</td>\n",
              "      <td>45.000000</td>\n",
              "      <td>45.000000</td>\n",
              "    </tr>\n",
              "    <tr>\n",
              "      <th>max</th>\n",
              "      <td>9.558082e+06</td>\n",
              "      <td>37199.000000</td>\n",
              "      <td>221.000000</td>\n",
              "      <td>99.000000</td>\n",
              "    </tr>\n",
              "  </tbody>\n",
              "</table>\n",
              "</div>\n",
              "    <div class=\"colab-df-buttons\">\n",
              "\n",
              "  <div class=\"colab-df-container\">\n",
              "    <button class=\"colab-df-convert\" onclick=\"convertToInteractive('df-3b4a37d9-30b5-4876-8bb1-aa67f2bc6c7c')\"\n",
              "            title=\"Convert this dataframe to an interactive table.\"\n",
              "            style=\"display:none;\">\n",
              "\n",
              "  <svg xmlns=\"http://www.w3.org/2000/svg\" height=\"24px\" viewBox=\"0 -960 960 960\">\n",
              "    <path d=\"M120-120v-720h720v720H120Zm60-500h600v-160H180v160Zm220 220h160v-160H400v160Zm0 220h160v-160H400v160ZM180-400h160v-160H180v160Zm440 0h160v-160H620v160ZM180-180h160v-160H180v160Zm440 0h160v-160H620v160Z\"/>\n",
              "  </svg>\n",
              "    </button>\n",
              "\n",
              "  <style>\n",
              "    .colab-df-container {\n",
              "      display:flex;\n",
              "      gap: 12px;\n",
              "    }\n",
              "\n",
              "    .colab-df-convert {\n",
              "      background-color: #E8F0FE;\n",
              "      border: none;\n",
              "      border-radius: 50%;\n",
              "      cursor: pointer;\n",
              "      display: none;\n",
              "      fill: #1967D2;\n",
              "      height: 32px;\n",
              "      padding: 0 0 0 0;\n",
              "      width: 32px;\n",
              "    }\n",
              "\n",
              "    .colab-df-convert:hover {\n",
              "      background-color: #E2EBFA;\n",
              "      box-shadow: 0px 1px 2px rgba(60, 64, 67, 0.3), 0px 1px 3px 1px rgba(60, 64, 67, 0.15);\n",
              "      fill: #174EA6;\n",
              "    }\n",
              "\n",
              "    .colab-df-buttons div {\n",
              "      margin-bottom: 4px;\n",
              "    }\n",
              "\n",
              "    [theme=dark] .colab-df-convert {\n",
              "      background-color: #3B4455;\n",
              "      fill: #D2E3FC;\n",
              "    }\n",
              "\n",
              "    [theme=dark] .colab-df-convert:hover {\n",
              "      background-color: #434B5C;\n",
              "      box-shadow: 0px 1px 3px 1px rgba(0, 0, 0, 0.15);\n",
              "      filter: drop-shadow(0px 1px 2px rgba(0, 0, 0, 0.3));\n",
              "      fill: #FFFFFF;\n",
              "    }\n",
              "  </style>\n",
              "\n",
              "    <script>\n",
              "      const buttonEl =\n",
              "        document.querySelector('#df-3b4a37d9-30b5-4876-8bb1-aa67f2bc6c7c button.colab-df-convert');\n",
              "      buttonEl.style.display =\n",
              "        google.colab.kernel.accessAllowed ? 'block' : 'none';\n",
              "\n",
              "      async function convertToInteractive(key) {\n",
              "        const element = document.querySelector('#df-3b4a37d9-30b5-4876-8bb1-aa67f2bc6c7c');\n",
              "        const dataTable =\n",
              "          await google.colab.kernel.invokeFunction('convertToInteractive',\n",
              "                                                    [key], {});\n",
              "        if (!dataTable) return;\n",
              "\n",
              "        const docLinkHtml = 'Like what you see? Visit the ' +\n",
              "          '<a target=\"_blank\" href=https://colab.research.google.com/notebooks/data_table.ipynb>data table notebook</a>'\n",
              "          + ' to learn more about interactive tables.';\n",
              "        element.innerHTML = '';\n",
              "        dataTable['output_type'] = 'display_data';\n",
              "        await google.colab.output.renderOutput(dataTable, element);\n",
              "        const docLink = document.createElement('div');\n",
              "        docLink.innerHTML = docLinkHtml;\n",
              "        element.appendChild(docLink);\n",
              "      }\n",
              "    </script>\n",
              "  </div>\n",
              "\n",
              "\n",
              "<div id=\"df-2fb43451-6c5c-4156-bde7-b693d0dc02e3\">\n",
              "  <button class=\"colab-df-quickchart\" onclick=\"quickchart('df-2fb43451-6c5c-4156-bde7-b693d0dc02e3')\"\n",
              "            title=\"Suggest charts.\"\n",
              "            style=\"display:none;\">\n",
              "\n",
              "<svg xmlns=\"http://www.w3.org/2000/svg\" height=\"24px\"viewBox=\"0 0 24 24\"\n",
              "     width=\"24px\">\n",
              "    <g>\n",
              "        <path d=\"M19 3H5c-1.1 0-2 .9-2 2v14c0 1.1.9 2 2 2h14c1.1 0 2-.9 2-2V5c0-1.1-.9-2-2-2zM9 17H7v-7h2v7zm4 0h-2V7h2v10zm4 0h-2v-4h2v4z\"/>\n",
              "    </g>\n",
              "</svg>\n",
              "  </button>\n",
              "\n",
              "<style>\n",
              "  .colab-df-quickchart {\n",
              "      --bg-color: #E8F0FE;\n",
              "      --fill-color: #1967D2;\n",
              "      --hover-bg-color: #E2EBFA;\n",
              "      --hover-fill-color: #174EA6;\n",
              "      --disabled-fill-color: #AAA;\n",
              "      --disabled-bg-color: #DDD;\n",
              "  }\n",
              "\n",
              "  [theme=dark] .colab-df-quickchart {\n",
              "      --bg-color: #3B4455;\n",
              "      --fill-color: #D2E3FC;\n",
              "      --hover-bg-color: #434B5C;\n",
              "      --hover-fill-color: #FFFFFF;\n",
              "      --disabled-bg-color: #3B4455;\n",
              "      --disabled-fill-color: #666;\n",
              "  }\n",
              "\n",
              "  .colab-df-quickchart {\n",
              "    background-color: var(--bg-color);\n",
              "    border: none;\n",
              "    border-radius: 50%;\n",
              "    cursor: pointer;\n",
              "    display: none;\n",
              "    fill: var(--fill-color);\n",
              "    height: 32px;\n",
              "    padding: 0;\n",
              "    width: 32px;\n",
              "  }\n",
              "\n",
              "  .colab-df-quickchart:hover {\n",
              "    background-color: var(--hover-bg-color);\n",
              "    box-shadow: 0 1px 2px rgba(60, 64, 67, 0.3), 0 1px 3px 1px rgba(60, 64, 67, 0.15);\n",
              "    fill: var(--button-hover-fill-color);\n",
              "  }\n",
              "\n",
              "  .colab-df-quickchart-complete:disabled,\n",
              "  .colab-df-quickchart-complete:disabled:hover {\n",
              "    background-color: var(--disabled-bg-color);\n",
              "    fill: var(--disabled-fill-color);\n",
              "    box-shadow: none;\n",
              "  }\n",
              "\n",
              "  .colab-df-spinner {\n",
              "    border: 2px solid var(--fill-color);\n",
              "    border-color: transparent;\n",
              "    border-bottom-color: var(--fill-color);\n",
              "    animation:\n",
              "      spin 1s steps(1) infinite;\n",
              "  }\n",
              "\n",
              "  @keyframes spin {\n",
              "    0% {\n",
              "      border-color: transparent;\n",
              "      border-bottom-color: var(--fill-color);\n",
              "      border-left-color: var(--fill-color);\n",
              "    }\n",
              "    20% {\n",
              "      border-color: transparent;\n",
              "      border-left-color: var(--fill-color);\n",
              "      border-top-color: var(--fill-color);\n",
              "    }\n",
              "    30% {\n",
              "      border-color: transparent;\n",
              "      border-left-color: var(--fill-color);\n",
              "      border-top-color: var(--fill-color);\n",
              "      border-right-color: var(--fill-color);\n",
              "    }\n",
              "    40% {\n",
              "      border-color: transparent;\n",
              "      border-right-color: var(--fill-color);\n",
              "      border-top-color: var(--fill-color);\n",
              "    }\n",
              "    60% {\n",
              "      border-color: transparent;\n",
              "      border-right-color: var(--fill-color);\n",
              "    }\n",
              "    80% {\n",
              "      border-color: transparent;\n",
              "      border-right-color: var(--fill-color);\n",
              "      border-bottom-color: var(--fill-color);\n",
              "    }\n",
              "    90% {\n",
              "      border-color: transparent;\n",
              "      border-bottom-color: var(--fill-color);\n",
              "    }\n",
              "  }\n",
              "</style>\n",
              "\n",
              "  <script>\n",
              "    async function quickchart(key) {\n",
              "      const quickchartButtonEl =\n",
              "        document.querySelector('#' + key + ' button');\n",
              "      quickchartButtonEl.disabled = true;  // To prevent multiple clicks.\n",
              "      quickchartButtonEl.classList.add('colab-df-spinner');\n",
              "      try {\n",
              "        const charts = await google.colab.kernel.invokeFunction(\n",
              "            'suggestCharts', [key], {});\n",
              "      } catch (error) {\n",
              "        console.error('Error during call to suggestCharts:', error);\n",
              "      }\n",
              "      quickchartButtonEl.classList.remove('colab-df-spinner');\n",
              "      quickchartButtonEl.classList.add('colab-df-quickchart-complete');\n",
              "    }\n",
              "    (() => {\n",
              "      let quickchartButtonEl =\n",
              "        document.querySelector('#df-2fb43451-6c5c-4156-bde7-b693d0dc02e3 button');\n",
              "      quickchartButtonEl.style.display =\n",
              "        google.colab.kernel.accessAllowed ? 'block' : 'none';\n",
              "    })();\n",
              "  </script>\n",
              "</div>\n",
              "    </div>\n",
              "  </div>\n"
            ]
          },
          "metadata": {},
          "execution_count": 39
        }
      ]
    },
    {
      "cell_type": "code",
      "source": [
        "resampled_data.search_basis.value_counts()"
      ],
      "metadata": {
        "colab": {
          "base_uri": "https://localhost:8080/"
        },
        "id": "Yt7HW0Sa6AKX",
        "outputId": "217c25b9-cb0d-4d9d-f5c2-fcfb922c7921"
      },
      "execution_count": 40,
      "outputs": [
        {
          "output_type": "execute_result",
          "data": {
            "text/plain": [
              "Erratic Suspicious Behaviour                                                         3002\n",
              "Other Official Info                                                                  2349\n",
              "Observation Suspected Contraband                                                     1137\n",
              "Witness Observation                                                                   316\n",
              "Suspicious Movement                                                                   265\n",
              "Informant Tip                                                                          17\n",
              "Erratic Suspicious Behaviour,Observation Suspected Contraband                          10\n",
              "Other Official Info,Observation Suspected Contraband                                    4\n",
              "Erratic Suspicious Behaviour,Observation Suspected Contraband,Suspicious Movement       4\n",
              "Erratic Suspicious Behaviour,Suspicious Movement                                        4\n",
              "Other Official Info,Suspicious Movement                                                 3\n",
              "Observation Suspected Contraband,Other Official Info                                    3\n",
              "Erratic Suspicious Behaviour,Other Official Info                                        3\n",
              "Other Official Info,Witness Observation                                                 2\n",
              "Informant Tip,Observation Suspected Contraband                                          2\n",
              "Observation Suspected Contraband,Witness Observation                                    2\n",
              "Erratic Suspicious Behaviour,Witness Observation                                        1\n",
              "Erratic Suspicious Behaviour,Other Official Info,Suspicious Movement                    1\n",
              "Suspicious Movement,Witness Observation                                                 1\n",
              "Name: search_basis, dtype: int64"
            ]
          },
          "metadata": {},
          "execution_count": 40
        }
      ]
    },
    {
      "cell_type": "code",
      "source": [
        "resampled_data.info()"
      ],
      "metadata": {
        "colab": {
          "base_uri": "https://localhost:8080/"
        },
        "id": "WTHYsdod6kyA",
        "outputId": "d3d827d8-4dae-43ed-b4c6-56f6227eccf9"
      },
      "execution_count": 41,
      "outputs": [
        {
          "output_type": "stream",
          "name": "stdout",
          "text": [
            "<class 'pandas.core.frame.DataFrame'>\n",
            "RangeIndex: 1000000 entries, 0 to 999999\n",
            "Data columns (total 29 columns):\n",
            " #   Column                 Non-Null Count    Dtype   \n",
            "---  ------                 --------------    -----   \n",
            " 0   index                  1000000 non-null  int64   \n",
            " 1   id                     1000000 non-null  object  \n",
            " 2   state                  1000000 non-null  object  \n",
            " 3   stop_date              1000000 non-null  object  \n",
            " 4   stop_time              36599 non-null    object  \n",
            " 5   location_raw           964571 non-null   object  \n",
            " 6   county_name            517024 non-null   object  \n",
            " 7   county_fips            517024 non-null   float64 \n",
            " 8   fine_grained_location  98130 non-null    object  \n",
            " 9   police_department      1000000 non-null  object  \n",
            " 10  driver_gender          1000000 non-null  object  \n",
            " 11  driver_age_raw         1000000 non-null  float64 \n",
            " 12  driver_age             1000000 non-null  float64 \n",
            " 13  driver_race_raw        1000000 non-null  object  \n",
            " 14  driver_race            1000000 non-null  object  \n",
            " 15  violation_raw          1000000 non-null  object  \n",
            " 16  violation              1000000 non-null  object  \n",
            " 17  search_conducted       1000000 non-null  bool    \n",
            " 18  search_type_raw        7136 non-null     object  \n",
            " 19  search_type            7136 non-null     object  \n",
            " 20  contraband_found       1000000 non-null  bool    \n",
            " 21  stop_outcome           1000000 non-null  object  \n",
            " 22  is_arrested            1000000 non-null  bool    \n",
            " 23  search_basis           7126 non-null     object  \n",
            " 24  officer_id             964984 non-null   object  \n",
            " 25  drugs_related_stop     724 non-null      object  \n",
            " 26  ethnicity              1000000 non-null  object  \n",
            " 27  district               964571 non-null   object  \n",
            " 28  driver_age_bucket      1000000 non-null  category\n",
            "dtypes: bool(3), category(1), float64(3), int64(1), object(21)\n",
            "memory usage: 194.5+ MB\n"
          ]
        }
      ]
    },
    {
      "cell_type": "markdown",
      "source": [
        "Since the raw columns have the same data as their corresponding columns before standardization, we can drop the raw columns"
      ],
      "metadata": {
        "id": "NZWTWVQbOchn"
      }
    },
    {
      "cell_type": "code",
      "source": [
        "raw_columns=['location_raw', 'driver_age_raw', 'driver_race_raw', 'violation_raw', 'search_type_raw' ]\n",
        "resampled_data = resampled_data.drop(raw_columns, axis=1)\n",
        "resampled_data.info()"
      ],
      "metadata": {
        "colab": {
          "base_uri": "https://localhost:8080/"
        },
        "id": "aceolFP_OYAs",
        "outputId": "0d0d9c36-a584-4d84-e0bb-49c15907f3ee"
      },
      "execution_count": 42,
      "outputs": [
        {
          "output_type": "stream",
          "name": "stdout",
          "text": [
            "<class 'pandas.core.frame.DataFrame'>\n",
            "RangeIndex: 1000000 entries, 0 to 999999\n",
            "Data columns (total 24 columns):\n",
            " #   Column                 Non-Null Count    Dtype   \n",
            "---  ------                 --------------    -----   \n",
            " 0   index                  1000000 non-null  int64   \n",
            " 1   id                     1000000 non-null  object  \n",
            " 2   state                  1000000 non-null  object  \n",
            " 3   stop_date              1000000 non-null  object  \n",
            " 4   stop_time              36599 non-null    object  \n",
            " 5   county_name            517024 non-null   object  \n",
            " 6   county_fips            517024 non-null   float64 \n",
            " 7   fine_grained_location  98130 non-null    object  \n",
            " 8   police_department      1000000 non-null  object  \n",
            " 9   driver_gender          1000000 non-null  object  \n",
            " 10  driver_age             1000000 non-null  float64 \n",
            " 11  driver_race            1000000 non-null  object  \n",
            " 12  violation              1000000 non-null  object  \n",
            " 13  search_conducted       1000000 non-null  bool    \n",
            " 14  search_type            7136 non-null     object  \n",
            " 15  contraband_found       1000000 non-null  bool    \n",
            " 16  stop_outcome           1000000 non-null  object  \n",
            " 17  is_arrested            1000000 non-null  bool    \n",
            " 18  search_basis           7126 non-null     object  \n",
            " 19  officer_id             964984 non-null   object  \n",
            " 20  drugs_related_stop     724 non-null      object  \n",
            " 21  ethnicity              1000000 non-null  object  \n",
            " 22  district               964571 non-null   object  \n",
            " 23  driver_age_bucket      1000000 non-null  category\n",
            "dtypes: bool(3), category(1), float64(2), int64(1), object(17)\n",
            "memory usage: 156.4+ MB\n"
          ]
        }
      ]
    },
    {
      "cell_type": "code",
      "source": [
        "resampled_data.drugs_related_stop.value_counts(dropna=False).sort_values(ascending=False)"
      ],
      "metadata": {
        "colab": {
          "base_uri": "https://localhost:8080/"
        },
        "id": "TK5k10h9iyTS",
        "outputId": "8cfffd0f-39a2-4b46-f2d9-4a204b61a04d"
      },
      "execution_count": 43,
      "outputs": [
        {
          "output_type": "execute_result",
          "data": {
            "text/plain": [
              "NaN     999276\n",
              "True       724\n",
              "Name: drugs_related_stop, dtype: int64"
            ]
          },
          "metadata": {},
          "execution_count": 43
        }
      ]
    },
    {
      "cell_type": "code",
      "source": [
        "resampled_data.drugs_related_stop.value_counts(dropna=False).sort_values(ascending=False)"
      ],
      "metadata": {
        "colab": {
          "base_uri": "https://localhost:8080/"
        },
        "id": "aVsAR8HUdyp2",
        "outputId": "07826920-e05b-4334-de6e-07d6f974ac73"
      },
      "execution_count": 44,
      "outputs": [
        {
          "output_type": "execute_result",
          "data": {
            "text/plain": [
              "NaN     999276\n",
              "True       724\n",
              "Name: drugs_related_stop, dtype: int64"
            ]
          },
          "metadata": {},
          "execution_count": 44
        }
      ]
    },
    {
      "cell_type": "markdown",
      "source": [
        "Drugs related stop shows us that out of 1M arrests only 724 are drug related, in the column, most values are null, looking closely at the data suggests that NULLs represent False i.e. that the stop wasn't drug related, hence NULLs in that column will be converted to False"
      ],
      "metadata": {
        "id": "5xhuDlUIe5YY"
      }
    },
    {
      "cell_type": "code",
      "source": [
        "resampled_data['drugs_related_stop'] = resampled_data['drugs_related_stop'].fillna(False)\n",
        "resampled_data.drugs_related_stop.value_counts(dropna=False).sort_values(ascending=False)"
      ],
      "metadata": {
        "colab": {
          "base_uri": "https://localhost:8080/"
        },
        "id": "xR529sELeDrd",
        "outputId": "bc971024-b982-4db1-e53d-43317fad5b15"
      },
      "execution_count": 45,
      "outputs": [
        {
          "output_type": "execute_result",
          "data": {
            "text/plain": [
              "False    999276\n",
              "True        724\n",
              "Name: drugs_related_stop, dtype: int64"
            ]
          },
          "metadata": {},
          "execution_count": 45
        }
      ]
    },
    {
      "cell_type": "code",
      "source": [
        "resampled_data.search_type.value_counts(dropna=False).sort_values(ascending=False)"
      ],
      "metadata": {
        "colab": {
          "base_uri": "https://localhost:8080/"
        },
        "id": "uKQjL0F7jhAb",
        "outputId": "cdb45893-8a9b-4c10-d69d-4b400aeba017"
      },
      "execution_count": 46,
      "outputs": [
        {
          "output_type": "execute_result",
          "data": {
            "text/plain": [
              "NaN                   992864\n",
              "Incident to Arrest      4801\n",
              "Protective Frisk         950\n",
              "Consent                  688\n",
              "Probable Cause           669\n",
              "Warrant                   28\n",
              "Name: search_type, dtype: int64"
            ]
          },
          "metadata": {},
          "execution_count": 46
        }
      ]
    },
    {
      "cell_type": "markdown",
      "source": [
        "Columns containing IDs do not contain information relevant enough to contribute to prediction, `officer_id` might i.e. a particular officer performing more routing stops - we will check it's correlation and reassess if the column is required. Additionally `stop_time` has very less coverage and can be dumped along with `fine_grained_location`"
      ],
      "metadata": {
        "id": "rqRQtk68o-Jr"
      }
    },
    {
      "cell_type": "code",
      "source": [
        "drop_columns=['index', 'id', 'stop_time', 'fine_grained_location']\n",
        "resampled_data = resampled_data.drop(drop_columns, axis=1)\n",
        "resampled_data.info()"
      ],
      "metadata": {
        "colab": {
          "base_uri": "https://localhost:8080/"
        },
        "id": "tseWvRzZo954",
        "outputId": "ddaad9d5-67c0-4737-a303-e0845ea57dca"
      },
      "execution_count": 47,
      "outputs": [
        {
          "output_type": "stream",
          "name": "stdout",
          "text": [
            "<class 'pandas.core.frame.DataFrame'>\n",
            "RangeIndex: 1000000 entries, 0 to 999999\n",
            "Data columns (total 20 columns):\n",
            " #   Column              Non-Null Count    Dtype   \n",
            "---  ------              --------------    -----   \n",
            " 0   state               1000000 non-null  object  \n",
            " 1   stop_date           1000000 non-null  object  \n",
            " 2   county_name         517024 non-null   object  \n",
            " 3   county_fips         517024 non-null   float64 \n",
            " 4   police_department   1000000 non-null  object  \n",
            " 5   driver_gender       1000000 non-null  object  \n",
            " 6   driver_age          1000000 non-null  float64 \n",
            " 7   driver_race         1000000 non-null  object  \n",
            " 8   violation           1000000 non-null  object  \n",
            " 9   search_conducted    1000000 non-null  bool    \n",
            " 10  search_type         7136 non-null     object  \n",
            " 11  contraband_found    1000000 non-null  bool    \n",
            " 12  stop_outcome        1000000 non-null  object  \n",
            " 13  is_arrested         1000000 non-null  bool    \n",
            " 14  search_basis        7126 non-null     object  \n",
            " 15  officer_id          964984 non-null   object  \n",
            " 16  drugs_related_stop  1000000 non-null  bool    \n",
            " 17  ethnicity           1000000 non-null  object  \n",
            " 18  district            964571 non-null   object  \n",
            " 19  driver_age_bucket   1000000 non-null  category\n",
            "dtypes: bool(4), category(1), float64(2), object(13)\n",
            "memory usage: 119.2+ MB\n"
          ]
        }
      ]
    },
    {
      "cell_type": "code",
      "source": [
        "resampled_data.ethnicity.value_counts(dropna=False).sort_values(ascending=False)"
      ],
      "metadata": {
        "colab": {
          "base_uri": "https://localhost:8080/"
        },
        "id": "02eV3Omno2oR",
        "outputId": "423c1667-5cc5-4290-ae15-f4313fb92f40"
      },
      "execution_count": 48,
      "outputs": [
        {
          "output_type": "execute_result",
          "data": {
            "text/plain": [
              "N    931396\n",
              "H     68604\n",
              "Name: ethnicity, dtype: int64"
            ]
          },
          "metadata": {},
          "execution_count": 48
        }
      ]
    },
    {
      "cell_type": "code",
      "source": [
        "resampled_data.driver_age_bucket.value_counts(dropna=False).sort_values(ascending=False)"
      ],
      "metadata": {
        "colab": {
          "base_uri": "https://localhost:8080/"
        },
        "id": "wXT9-HQYrXs4",
        "outputId": "6d76cf11-88d6-43a3-9e30-d7df138e6503"
      },
      "execution_count": 49,
      "outputs": [
        {
          "output_type": "execute_result",
          "data": {
            "text/plain": [
              "20-29    317442\n",
              "30-39    235103\n",
              "40-49    182676\n",
              "50+      177684\n",
              "15-19     87095\n",
              "<15           0\n",
              "Name: driver_age_bucket, dtype: int64"
            ]
          },
          "metadata": {},
          "execution_count": 49
        }
      ]
    },
    {
      "cell_type": "markdown",
      "source": [
        "ethnicity and driver_age are redundant columns since we already have age_bucket and driver_race\n"
      ],
      "metadata": {
        "id": "y2L6hLSs4FTQ"
      }
    },
    {
      "cell_type": "code",
      "source": [
        "resampled_data.county_fips.value_counts(dropna=False).sort_values(ascending=False)"
      ],
      "metadata": {
        "colab": {
          "base_uri": "https://localhost:8080/"
        },
        "id": "1BfWbpM28EDD",
        "outputId": "34a2a906-2d53-4177-82ab-08291c04bc7b"
      },
      "execution_count": 50,
      "outputs": [
        {
          "output_type": "execute_result",
          "data": {
            "text/plain": [
              "NaN        482976\n",
              "37183.0     37628\n",
              "37101.0     27124\n",
              "37119.0     26018\n",
              "37081.0     26001\n",
              "            ...  \n",
              "37121.0       364\n",
              "37095.0       284\n",
              "37005.0       246\n",
              "37041.0       197\n",
              "37075.0       144\n",
              "Name: county_fips, Length: 101, dtype: int64"
            ]
          },
          "metadata": {},
          "execution_count": 50
        }
      ]
    },
    {
      "cell_type": "code",
      "source": [
        "resampled_data = resampled_data.drop(['ethnicity', 'driver_age'], axis=1)\n",
        "resampled_data.info()"
      ],
      "metadata": {
        "colab": {
          "base_uri": "https://localhost:8080/"
        },
        "id": "kjiU2fSQ1AXG",
        "outputId": "80562f4b-27ea-40ca-a775-d863057866f7"
      },
      "execution_count": 51,
      "outputs": [
        {
          "output_type": "stream",
          "name": "stdout",
          "text": [
            "<class 'pandas.core.frame.DataFrame'>\n",
            "RangeIndex: 1000000 entries, 0 to 999999\n",
            "Data columns (total 18 columns):\n",
            " #   Column              Non-Null Count    Dtype   \n",
            "---  ------              --------------    -----   \n",
            " 0   state               1000000 non-null  object  \n",
            " 1   stop_date           1000000 non-null  object  \n",
            " 2   county_name         517024 non-null   object  \n",
            " 3   county_fips         517024 non-null   float64 \n",
            " 4   police_department   1000000 non-null  object  \n",
            " 5   driver_gender       1000000 non-null  object  \n",
            " 6   driver_race         1000000 non-null  object  \n",
            " 7   violation           1000000 non-null  object  \n",
            " 8   search_conducted    1000000 non-null  bool    \n",
            " 9   search_type         7136 non-null     object  \n",
            " 10  contraband_found    1000000 non-null  bool    \n",
            " 11  stop_outcome        1000000 non-null  object  \n",
            " 12  is_arrested         1000000 non-null  bool    \n",
            " 13  search_basis        7126 non-null     object  \n",
            " 14  officer_id          964984 non-null   object  \n",
            " 15  drugs_related_stop  1000000 non-null  bool    \n",
            " 16  district            964571 non-null   object  \n",
            " 17  driver_age_bucket   1000000 non-null  category\n",
            "dtypes: bool(4), category(1), float64(1), object(12)\n",
            "memory usage: 104.0+ MB\n"
          ]
        }
      ]
    },
    {
      "cell_type": "markdown",
      "source": [
        "county_name and county_fips are related columns where county_fips is just a numeric representation of the state and county, hence we can get rid of county_name. Additionally we have to handle county_fips, search_type, search_basis, officer_id, district, age_bucket have some NULL values. Since all columns are categorical, instead of imputing we will replace the NULLs with a constant \"Unknown\", except for county_fips which will be replaced with 00000. If columns with majority values prove to not strongly correlated, these will be dropped."
      ],
      "metadata": {
        "id": "YqEJcdOX4isG"
      }
    },
    {
      "cell_type": "code",
      "source": [
        "resampled_data.state.value_counts()"
      ],
      "metadata": {
        "colab": {
          "base_uri": "https://localhost:8080/"
        },
        "id": "hbgJbtC60CJZ",
        "outputId": "659500eb-79bd-49ce-adad-2552474efbd7"
      },
      "execution_count": 52,
      "outputs": [
        {
          "output_type": "execute_result",
          "data": {
            "text/plain": [
              "NC    1000000\n",
              "Name: state, dtype: int64"
            ]
          },
          "metadata": {},
          "execution_count": 52
        }
      ]
    },
    {
      "cell_type": "markdown",
      "source": [
        "State only contains one value NC and hence won't contribute to the prediction and can't be dropped"
      ],
      "metadata": {
        "id": "WxWyfpXX0U5q"
      }
    },
    {
      "cell_type": "code",
      "source": [
        "resampled_data = resampled_data.drop(['county_name', 'state'], axis=1)\n",
        "resampled_data.info()"
      ],
      "metadata": {
        "colab": {
          "base_uri": "https://localhost:8080/"
        },
        "id": "75NfoV8x4hjc",
        "outputId": "1c6ed8bb-2c46-41a3-d2ce-2cbda334e6a0"
      },
      "execution_count": 53,
      "outputs": [
        {
          "output_type": "stream",
          "name": "stdout",
          "text": [
            "<class 'pandas.core.frame.DataFrame'>\n",
            "RangeIndex: 1000000 entries, 0 to 999999\n",
            "Data columns (total 16 columns):\n",
            " #   Column              Non-Null Count    Dtype   \n",
            "---  ------              --------------    -----   \n",
            " 0   stop_date           1000000 non-null  object  \n",
            " 1   county_fips         517024 non-null   float64 \n",
            " 2   police_department   1000000 non-null  object  \n",
            " 3   driver_gender       1000000 non-null  object  \n",
            " 4   driver_race         1000000 non-null  object  \n",
            " 5   violation           1000000 non-null  object  \n",
            " 6   search_conducted    1000000 non-null  bool    \n",
            " 7   search_type         7136 non-null     object  \n",
            " 8   contraband_found    1000000 non-null  bool    \n",
            " 9   stop_outcome        1000000 non-null  object  \n",
            " 10  is_arrested         1000000 non-null  bool    \n",
            " 11  search_basis        7126 non-null     object  \n",
            " 12  officer_id          964984 non-null   object  \n",
            " 13  drugs_related_stop  1000000 non-null  bool    \n",
            " 14  district            964571 non-null   object  \n",
            " 15  driver_age_bucket   1000000 non-null  category\n",
            "dtypes: bool(4), category(1), float64(1), object(10)\n",
            "memory usage: 88.7+ MB\n"
          ]
        }
      ]
    },
    {
      "cell_type": "code",
      "source": [
        "resampled_data[['search_type', 'search_basis', 'officer_id','district' ]] = resampled_data[['search_type', 'search_basis', 'officer_id','district']].fillna(value='Unknown')\n",
        "resampled_data.search_type.value_counts(dropna=False).sort_values(ascending=False)"
      ],
      "metadata": {
        "colab": {
          "base_uri": "https://localhost:8080/"
        },
        "id": "vSU5L27l6FgB",
        "outputId": "297bb408-a457-46c7-b934-03b2aea7d79b"
      },
      "execution_count": 54,
      "outputs": [
        {
          "output_type": "execute_result",
          "data": {
            "text/plain": [
              "Unknown               992864\n",
              "Incident to Arrest      4801\n",
              "Protective Frisk         950\n",
              "Consent                  688\n",
              "Probable Cause           669\n",
              "Warrant                   28\n",
              "Name: search_type, dtype: int64"
            ]
          },
          "metadata": {},
          "execution_count": 54
        }
      ]
    },
    {
      "cell_type": "code",
      "source": [
        "resampled_data['driver_age_bucket'] = resampled_data['driver_age_bucket'].cat.add_categories(['Unknown']).fillna(value='Unknown')"
      ],
      "metadata": {
        "id": "gYRsUmMyIXs3"
      },
      "execution_count": 55,
      "outputs": []
    },
    {
      "cell_type": "code",
      "source": [
        "resampled_data.driver_age_bucket.value_counts(dropna=False).sort_values(ascending=False)"
      ],
      "metadata": {
        "colab": {
          "base_uri": "https://localhost:8080/"
        },
        "id": "an1VTQGiImYH",
        "outputId": "576de508-758f-4eb5-e11e-e2c135d1a723"
      },
      "execution_count": 56,
      "outputs": [
        {
          "output_type": "execute_result",
          "data": {
            "text/plain": [
              "20-29      317442\n",
              "30-39      235103\n",
              "40-49      182676\n",
              "50+        177684\n",
              "15-19       87095\n",
              "<15             0\n",
              "Unknown         0\n",
              "Name: driver_age_bucket, dtype: int64"
            ]
          },
          "metadata": {},
          "execution_count": 56
        }
      ]
    },
    {
      "cell_type": "code",
      "source": [
        "resampled_data['county_fips'] = resampled_data['county_fips'].fillna(value=00000.0)\n",
        "resampled_data.county_fips.value_counts(dropna=False).sort_values(ascending=False)"
      ],
      "metadata": {
        "colab": {
          "base_uri": "https://localhost:8080/"
        },
        "id": "ymGI0NNCKDl6",
        "outputId": "d94c8a8d-0a7b-40df-dcb7-a8781560de8f"
      },
      "execution_count": 57,
      "outputs": [
        {
          "output_type": "execute_result",
          "data": {
            "text/plain": [
              "0.0        482976\n",
              "37183.0     37628\n",
              "37101.0     27124\n",
              "37119.0     26018\n",
              "37081.0     26001\n",
              "            ...  \n",
              "37121.0       364\n",
              "37095.0       284\n",
              "37005.0       246\n",
              "37041.0       197\n",
              "37075.0       144\n",
              "Name: county_fips, Length: 101, dtype: int64"
            ]
          },
          "metadata": {},
          "execution_count": 57
        }
      ]
    },
    {
      "cell_type": "code",
      "source": [
        "resampled_data.info()"
      ],
      "metadata": {
        "colab": {
          "base_uri": "https://localhost:8080/"
        },
        "id": "bACSWbedLb3P",
        "outputId": "2943f9f6-0477-461a-d4fd-e5e960f840e2"
      },
      "execution_count": 58,
      "outputs": [
        {
          "output_type": "stream",
          "name": "stdout",
          "text": [
            "<class 'pandas.core.frame.DataFrame'>\n",
            "RangeIndex: 1000000 entries, 0 to 999999\n",
            "Data columns (total 16 columns):\n",
            " #   Column              Non-Null Count    Dtype   \n",
            "---  ------              --------------    -----   \n",
            " 0   stop_date           1000000 non-null  object  \n",
            " 1   county_fips         1000000 non-null  float64 \n",
            " 2   police_department   1000000 non-null  object  \n",
            " 3   driver_gender       1000000 non-null  object  \n",
            " 4   driver_race         1000000 non-null  object  \n",
            " 5   violation           1000000 non-null  object  \n",
            " 6   search_conducted    1000000 non-null  bool    \n",
            " 7   search_type         1000000 non-null  object  \n",
            " 8   contraband_found    1000000 non-null  bool    \n",
            " 9   stop_outcome        1000000 non-null  object  \n",
            " 10  is_arrested         1000000 non-null  bool    \n",
            " 11  search_basis        1000000 non-null  object  \n",
            " 12  officer_id          1000000 non-null  object  \n",
            " 13  drugs_related_stop  1000000 non-null  bool    \n",
            " 14  district            1000000 non-null  object  \n",
            " 15  driver_age_bucket   1000000 non-null  category\n",
            "dtypes: bool(4), category(1), float64(1), object(10)\n",
            "memory usage: 88.7+ MB\n"
          ]
        }
      ]
    },
    {
      "cell_type": "code",
      "source": [
        "resampled_data.police_department.value_counts()"
      ],
      "metadata": {
        "colab": {
          "base_uri": "https://localhost:8080/"
        },
        "id": "wXwIu-drMeqE",
        "outputId": "4d8cf31d-3598-4b94-cd94-b24faaa5a990"
      },
      "execution_count": 82,
      "outputs": [
        {
          "output_type": "execute_result",
          "data": {
            "text/plain": [
              "NC State Highway Patrol                    989145\n",
              "SHP - Motor Carrier Enforcement Section     10855\n",
              "Name: police_department, dtype: int64"
            ]
          },
          "metadata": {},
          "execution_count": 82
        }
      ]
    },
    {
      "cell_type": "code",
      "source": [
        "resampled_data.contraband_found.value_counts()"
      ],
      "metadata": {
        "colab": {
          "base_uri": "https://localhost:8080/"
        },
        "id": "hWntfS0GMrPx",
        "outputId": "bb971e21-9b65-4ada-dbc1-7a4adc981438"
      },
      "execution_count": 84,
      "outputs": [
        {
          "output_type": "execute_result",
          "data": {
            "text/plain": [
              "False    998969\n",
              "True       1031\n",
              "Name: contraband_found, dtype: int64"
            ]
          },
          "metadata": {},
          "execution_count": 84
        }
      ]
    },
    {
      "cell_type": "code",
      "source": [
        "bckup = resampled_data.copy()"
      ],
      "metadata": {
        "id": "w5zp_5551ILX"
      },
      "execution_count": 59,
      "outputs": []
    },
    {
      "cell_type": "code",
      "source": [
        "from sklearn.preprocessing import OrdinalEncoder\n",
        "\n",
        "enc = OrdinalEncoder()\n",
        "resampled_data[['contraband_found', 'drugs_related_stop', 'district', 'stop_date', 'police_department', 'violation', 'search_conducted', 'search_type', 'is_arrested', 'search_basis', 'officer_id']] = enc.fit_transform(resampled_data[['contraband_found', 'drugs_related_stop', 'district', 'stop_date', 'police_department', 'violation', 'search_conducted', 'search_type', 'is_arrested', 'search_basis', 'officer_id']])"
      ],
      "metadata": {
        "id": "vXy7JWCOM0h0"
      },
      "execution_count": 62,
      "outputs": []
    },
    {
      "cell_type": "code",
      "source": [
        "resampled_data.officer_id.value_counts().sort_values(ascending=False)"
      ],
      "metadata": {
        "colab": {
          "base_uri": "https://localhost:8080/"
        },
        "id": "ZrphCvarUt-H",
        "outputId": "2813b8f2-c31b-4ad5-f9f0-1107d2e1cf20"
      },
      "execution_count": 63,
      "outputs": [
        {
          "output_type": "execute_result",
          "data": {
            "text/plain": [
              "4389.0    35016\n",
              "2448.0     2448\n",
              "829.0      2411\n",
              "1066.0     2101\n",
              "166.0      1867\n",
              "          ...  \n",
              "958.0         1\n",
              "147.0         1\n",
              "719.0         1\n",
              "1242.0        1\n",
              "1718.0        1\n",
              "Name: officer_id, Length: 4417, dtype: int64"
            ]
          },
          "metadata": {},
          "execution_count": 63
        }
      ]
    },
    {
      "cell_type": "code",
      "source": [
        "corr_data = resampled_data.copy()"
      ],
      "metadata": {
        "id": "CRDkAHgGU8vU"
      },
      "execution_count": 64,
      "outputs": []
    },
    {
      "cell_type": "code",
      "source": [
        "corr_data[['driver_race', 'stop_outcome', 'driver_gender', 'is_arrested', 'driver_age_bucket']] = enc.fit_transform(corr_data[['driver_race', 'stop_outcome', 'driver_gender', 'is_arrested', 'driver_age_bucket']])"
      ],
      "metadata": {
        "id": "g899H3_xVZ5y"
      },
      "execution_count": 65,
      "outputs": []
    },
    {
      "cell_type": "code",
      "source": [
        "corr_matrix = corr_data.corr()"
      ],
      "metadata": {
        "id": "De66iW1OW2bW"
      },
      "execution_count": 66,
      "outputs": []
    },
    {
      "cell_type": "code",
      "source": [
        "import seaborn as sns\n",
        "import matplotlib.pyplot as plt\n",
        "\n",
        "plt.figure(figsize=(25,12))\n",
        "# Assuming 'correlation_matrix' is your correlation matrix\n",
        "sns.heatmap(corr_matrix, annot=True, cmap='coolwarm')\n",
        "\n",
        "plt.title('Correlation Matrix')\n",
        "plt.show()"
      ],
      "metadata": {
        "colab": {
          "base_uri": "https://localhost:8080/",
          "height": 382
        },
        "id": "dVrEVOLKXF8w",
        "outputId": "201ace4d-b61b-48fc-b460-c3d069d952f7"
      },
      "execution_count": 67,
      "outputs": [
        {
          "output_type": "display_data",
          "data": {
            "text/plain": [
              "<Figure size 2500x1200 with 2 Axes>"
            ],
            "image/png": "[encoded data removed]"
          },
          "metadata": {}
        }
      ]
    },
    {
      "cell_type": "markdown",
      "source": [
        "for search condcuted, county_fips, officer_id, police_department has little to no correlation with the target variable.\n"
      ],
      "metadata": {
        "id": "4RU49_tSf5mT"
      }
    },
    {
      "cell_type": "code",
      "source": [
        "search_data = pd.get_dummies(resampled_data, columns=['driver_race', 'driver_gender', 'driver_age_bucket'])\n",
        "search_data.head(5)"
      ],
      "metadata": {
        "colab": {
          "base_uri": "https://localhost:8080/",
          "height": 290
        },
        "id": "VTi_XWEyoCTh",
        "outputId": "dc264cef-8bc0-4f32-b2d9-411fb859d83e"
      },
      "execution_count": 68,
      "outputs": [
        {
          "output_type": "execute_result",
          "data": {
            "text/plain": [
              "   stop_date  county_fips  police_department  violation  search_conducted  \\\n",
              "0     1523.0      37067.0                0.0        6.0               0.0   \n",
              "1     3022.0      37163.0                0.0        4.0               0.0   \n",
              "2     3610.0          0.0                0.0        3.0               0.0   \n",
              "3     3280.0      37151.0                0.0        6.0               0.0   \n",
              "4     4984.0      37063.0                0.0        6.0               0.0   \n",
              "\n",
              "   search_type  contraband_found     stop_outcome  is_arrested  search_basis  \\\n",
              "0          4.0               0.0         Citation          0.0          18.0   \n",
              "1          4.0               0.0         Citation          0.0          18.0   \n",
              "2          4.0               0.0         Citation          0.0          18.0   \n",
              "3          4.0               0.0         Citation          0.0          18.0   \n",
              "4          4.0               0.0  Written Warning          0.0          18.0   \n",
              "\n",
              "   ...  driver_race_White  driver_gender_F  driver_gender_M  \\\n",
              "0  ...                  1                1                0   \n",
              "1  ...                  1                1                0   \n",
              "2  ...                  1                0                1   \n",
              "3  ...                  1                1                0   \n",
              "4  ...                  0                0                1   \n",
              "\n",
              "   driver_age_bucket_<15  driver_age_bucket_15-19  driver_age_bucket_20-29  \\\n",
              "0                      0                        0                        0   \n",
              "1                      0                        1                        0   \n",
              "2                      0                        0                        0   \n",
              "3                      0                        0                        0   \n",
              "4                      0                        0                        1   \n",
              "\n",
              "   driver_age_bucket_30-39  driver_age_bucket_40-49  driver_age_bucket_50+  \\\n",
              "0                        1                        0                      0   \n",
              "1                        0                        0                      0   \n",
              "2                        1                        0                      0   \n",
              "3                        1                        0                      0   \n",
              "4                        0                        0                      0   \n",
              "\n",
              "   driver_age_bucket_Unknown  \n",
              "0                          0  \n",
              "1                          0  \n",
              "2                          0  \n",
              "3                          0  \n",
              "4                          0  \n",
              "\n",
              "[5 rows x 27 columns]"
            ],
            "text/html": [
              "\n",
              "  <div id=\"df-55dc9d21-e4b2-4bfb-a68f-c9d654c4a3ab\" class=\"colab-df-container\">\n",
              "    <div>\n",
              "<style scoped>\n",
              "    .dataframe tbody tr th:only-of-type {\n",
              "        vertical-align: middle;\n",
              "    }\n",
              "\n",
              "    .dataframe tbody tr th {\n",
              "        vertical-align: top;\n",
              "    }\n",
              "\n",
              "    .dataframe thead th {\n",
              "        text-align: right;\n",
              "    }\n",
              "</style>\n",
              "<table border=\"1\" class=\"dataframe\">\n",
              "  <thead>\n",
              "    <tr style=\"text-align: right;\">\n",
              "      <th></th>\n",
              "      <th>stop_date</th>\n",
              "      <th>county_fips</th>\n",
              "      <th>police_department</th>\n",
              "      <th>violation</th>\n",
              "      <th>search_conducted</th>\n",
              "      <th>search_type</th>\n",
              "      <th>contraband_found</th>\n",
              "      <th>stop_outcome</th>\n",
              "      <th>is_arrested</th>\n",
              "      <th>search_basis</th>\n",
              "      <th>...</th>\n",
              "      <th>driver_race_White</th>\n",
              "      <th>driver_gender_F</th>\n",
              "      <th>driver_gender_M</th>\n",
              "      <th>driver_age_bucket_&lt;15</th>\n",
              "      <th>driver_age_bucket_15-19</th>\n",
              "      <th>driver_age_bucket_20-29</th>\n",
              "      <th>driver_age_bucket_30-39</th>\n",
              "      <th>driver_age_bucket_40-49</th>\n",
              "      <th>driver_age_bucket_50+</th>\n",
              "      <th>driver_age_bucket_Unknown</th>\n",
              "    </tr>\n",
              "  </thead>\n",
              "  <tbody>\n",
              "    <tr>\n",
              "      <th>0</th>\n",
              "      <td>1523.0</td>\n",
              "      <td>37067.0</td>\n",
              "      <td>0.0</td>\n",
              "      <td>6.0</td>\n",
              "      <td>0.0</td>\n",
              "      <td>4.0</td>\n",
              "      <td>0.0</td>\n",
              "      <td>Citation</td>\n",
              "      <td>0.0</td>\n",
              "      <td>18.0</td>\n",
              "      <td>...</td>\n",
              "      <td>1</td>\n",
              "      <td>1</td>\n",
              "      <td>0</td>\n",
              "      <td>0</td>\n",
              "      <td>0</td>\n",
              "      <td>0</td>\n",
              "      <td>1</td>\n",
              "      <td>0</td>\n",
              "      <td>0</td>\n",
              "      <td>0</td>\n",
              "    </tr>\n",
              "    <tr>\n",
              "      <th>1</th>\n",
              "      <td>3022.0</td>\n",
              "      <td>37163.0</td>\n",
              "      <td>0.0</td>\n",
              "      <td>4.0</td>\n",
              "      <td>0.0</td>\n",
              "      <td>4.0</td>\n",
              "      <td>0.0</td>\n",
              "      <td>Citation</td>\n",
              "      <td>0.0</td>\n",
              "      <td>18.0</td>\n",
              "      <td>...</td>\n",
              "      <td>1</td>\n",
              "      <td>1</td>\n",
              "      <td>0</td>\n",
              "      <td>0</td>\n",
              "      <td>1</td>\n",
              "      <td>0</td>\n",
              "      <td>0</td>\n",
              "      <td>0</td>\n",
              "      <td>0</td>\n",
              "      <td>0</td>\n",
              "    </tr>\n",
              "    <tr>\n",
              "      <th>2</th>\n",
              "      <td>3610.0</td>\n",
              "      <td>0.0</td>\n",
              "      <td>0.0</td>\n",
              "      <td>3.0</td>\n",
              "      <td>0.0</td>\n",
              "      <td>4.0</td>\n",
              "      <td>0.0</td>\n",
              "      <td>Citation</td>\n",
              "      <td>0.0</td>\n",
              "      <td>18.0</td>\n",
              "      <td>...</td>\n",
              "      <td>1</td>\n",
              "      <td>0</td>\n",
              "      <td>1</td>\n",
              "      <td>0</td>\n",
              "      <td>0</td>\n",
              "      <td>0</td>\n",
              "      <td>1</td>\n",
              "      <td>0</td>\n",
              "      <td>0</td>\n",
              "      <td>0</td>\n",
              "    </tr>\n",
              "    <tr>\n",
              "      <th>3</th>\n",
              "      <td>3280.0</td>\n",
              "      <td>37151.0</td>\n",
              "      <td>0.0</td>\n",
              "      <td>6.0</td>\n",
              "      <td>0.0</td>\n",
              "      <td>4.0</td>\n",
              "      <td>0.0</td>\n",
              "      <td>Citation</td>\n",
              "      <td>0.0</td>\n",
              "      <td>18.0</td>\n",
              "      <td>...</td>\n",
              "      <td>1</td>\n",
              "      <td>1</td>\n",
              "      <td>0</td>\n",
              "      <td>0</td>\n",
              "      <td>0</td>\n",
              "      <td>0</td>\n",
              "      <td>1</td>\n",
              "      <td>0</td>\n",
              "      <td>0</td>\n",
              "      <td>0</td>\n",
              "    </tr>\n",
              "    <tr>\n",
              "      <th>4</th>\n",
              "      <td>4984.0</td>\n",
              "      <td>37063.0</td>\n",
              "      <td>0.0</td>\n",
              "      <td>6.0</td>\n",
              "      <td>0.0</td>\n",
              "      <td>4.0</td>\n",
              "      <td>0.0</td>\n",
              "      <td>Written Warning</td>\n",
              "      <td>0.0</td>\n",
              "      <td>18.0</td>\n",
              "      <td>...</td>\n",
              "      <td>0</td>\n",
              "      <td>0</td>\n",
              "      <td>1</td>\n",
              "      <td>0</td>\n",
              "      <td>0</td>\n",
              "      <td>1</td>\n",
              "      <td>0</td>\n",
              "      <td>0</td>\n",
              "      <td>0</td>\n",
              "      <td>0</td>\n",
              "    </tr>\n",
              "  </tbody>\n",
              "</table>\n",
              "<p>5 rows × 27 columns</p>\n",
              "</div>\n",
              "    <div class=\"colab-df-buttons\">\n",
              "\n",
              "  <div class=\"colab-df-container\">\n",
              "    <button class=\"colab-df-convert\" onclick=\"convertToInteractive('df-55dc9d21-e4b2-4bfb-a68f-c9d654c4a3ab')\"\n",
              "            title=\"Convert this dataframe to an interactive table.\"\n",
              "            style=\"display:none;\">\n",
              "\n",
              "  <svg xmlns=\"http://www.w3.org/2000/svg\" height=\"24px\" viewBox=\"0 -960 960 960\">\n",
              "    <path d=\"M120-120v-720h720v720H120Zm60-500h600v-160H180v160Zm220 220h160v-160H400v160Zm0 220h160v-160H400v160ZM180-400h160v-160H180v160Zm440 0h160v-160H620v160ZM180-180h160v-160H180v160Zm440 0h160v-160H620v160Z\"/>\n",
              "  </svg>\n",
              "    </button>\n",
              "\n",
              "  <style>\n",
              "    .colab-df-container {\n",
              "      display:flex;\n",
              "      gap: 12px;\n",
              "    }\n",
              "\n",
              "    .colab-df-convert {\n",
              "      background-color: #E8F0FE;\n",
              "      border: none;\n",
              "      border-radius: 50%;\n",
              "      cursor: pointer;\n",
              "      display: none;\n",
              "      fill: #1967D2;\n",
              "      height: 32px;\n",
              "      padding: 0 0 0 0;\n",
              "      width: 32px;\n",
              "    }\n",
              "\n",
              "    .colab-df-convert:hover {\n",
              "      background-color: #E2EBFA;\n",
              "      box-shadow: 0px 1px 2px rgba(60, 64, 67, 0.3), 0px 1px 3px 1px rgba(60, 64, 67, 0.15);\n",
              "      fill: #174EA6;\n",
              "    }\n",
              "\n",
              "    .colab-df-buttons div {\n",
              "      margin-bottom: 4px;\n",
              "    }\n",
              "\n",
              "    [theme=dark] .colab-df-convert {\n",
              "      background-color: #3B4455;\n",
              "      fill: #D2E3FC;\n",
              "    }\n",
              "\n",
              "    [theme=dark] .colab-df-convert:hover {\n",
              "      background-color: #434B5C;\n",
              "      box-shadow: 0px 1px 3px 1px rgba(0, 0, 0, 0.15);\n",
              "      filter: drop-shadow(0px 1px 2px rgba(0, 0, 0, 0.3));\n",
              "      fill: #FFFFFF;\n",
              "    }\n",
              "  </style>\n",
              "\n",
              "    <script>\n",
              "      const buttonEl =\n",
              "        document.querySelector('#df-55dc9d21-e4b2-4bfb-a68f-c9d654c4a3ab button.colab-df-convert');\n",
              "      buttonEl.style.display =\n",
              "        google.colab.kernel.accessAllowed ? 'block' : 'none';\n",
              "\n",
              "      async function convertToInteractive(key) {\n",
              "        const element = document.querySelector('#df-55dc9d21-e4b2-4bfb-a68f-c9d654c4a3ab');\n",
              "        const dataTable =\n",
              "          await google.colab.kernel.invokeFunction('convertToInteractive',\n",
              "                                                    [key], {});\n",
              "        if (!dataTable) return;\n",
              "\n",
              "        const docLinkHtml = 'Like what you see? Visit the ' +\n",
              "          '<a target=\"_blank\" href=https://colab.research.google.com/notebooks/data_table.ipynb>data table notebook</a>'\n",
              "          + ' to learn more about interactive tables.';\n",
              "        element.innerHTML = '';\n",
              "        dataTable['output_type'] = 'display_data';\n",
              "        await google.colab.output.renderOutput(dataTable, element);\n",
              "        const docLink = document.createElement('div');\n",
              "        docLink.innerHTML = docLinkHtml;\n",
              "        element.appendChild(docLink);\n",
              "      }\n",
              "    </script>\n",
              "  </div>\n",
              "\n",
              "\n",
              "<div id=\"df-f31abaf7-82bc-4965-9e04-7e0e0d2f35d4\">\n",
              "  <button class=\"colab-df-quickchart\" onclick=\"quickchart('df-f31abaf7-82bc-4965-9e04-7e0e0d2f35d4')\"\n",
              "            title=\"Suggest charts.\"\n",
              "            style=\"display:none;\">\n",
              "\n",
              "<svg xmlns=\"http://www.w3.org/2000/svg\" height=\"24px\"viewBox=\"0 0 24 24\"\n",
              "     width=\"24px\">\n",
              "    <g>\n",
              "        <path d=\"M19 3H5c-1.1 0-2 .9-2 2v14c0 1.1.9 2 2 2h14c1.1 0 2-.9 2-2V5c0-1.1-.9-2-2-2zM9 17H7v-7h2v7zm4 0h-2V7h2v10zm4 0h-2v-4h2v4z\"/>\n",
              "    </g>\n",
              "</svg>\n",
              "  </button>\n",
              "\n",
              "<style>\n",
              "  .colab-df-quickchart {\n",
              "      --bg-color: #E8F0FE;\n",
              "      --fill-color: #1967D2;\n",
              "      --hover-bg-color: #E2EBFA;\n",
              "      --hover-fill-color: #174EA6;\n",
              "      --disabled-fill-color: #AAA;\n",
              "      --disabled-bg-color: #DDD;\n",
              "  }\n",
              "\n",
              "  [theme=dark] .colab-df-quickchart {\n",
              "      --bg-color: #3B4455;\n",
              "      --fill-color: #D2E3FC;\n",
              "      --hover-bg-color: #434B5C;\n",
              "      --hover-fill-color: #FFFFFF;\n",
              "      --disabled-bg-color: #3B4455;\n",
              "      --disabled-fill-color: #666;\n",
              "  }\n",
              "\n",
              "  .colab-df-quickchart {\n",
              "    background-color: var(--bg-color);\n",
              "    border: none;\n",
              "    border-radius: 50%;\n",
              "    cursor: pointer;\n",
              "    display: none;\n",
              "    fill: var(--fill-color);\n",
              "    height: 32px;\n",
              "    padding: 0;\n",
              "    width: 32px;\n",
              "  }\n",
              "\n",
              "  .colab-df-quickchart:hover {\n",
              "    background-color: var(--hover-bg-color);\n",
              "    box-shadow: 0 1px 2px rgba(60, 64, 67, 0.3), 0 1px 3px 1px rgba(60, 64, 67, 0.15);\n",
              "    fill: var(--button-hover-fill-color);\n",
              "  }\n",
              "\n",
              "  .colab-df-quickchart-complete:disabled,\n",
              "  .colab-df-quickchart-complete:disabled:hover {\n",
              "    background-color: var(--disabled-bg-color);\n",
              "    fill: var(--disabled-fill-color);\n",
              "    box-shadow: none;\n",
              "  }\n",
              "\n",
              "  .colab-df-spinner {\n",
              "    border: 2px solid var(--fill-color);\n",
              "    border-color: transparent;\n",
              "    border-bottom-color: var(--fill-color);\n",
              "    animation:\n",
              "      spin 1s steps(1) infinite;\n",
              "  }\n",
              "\n",
              "  @keyframes spin {\n",
              "    0% {\n",
              "      border-color: transparent;\n",
              "      border-bottom-color: var(--fill-color);\n",
              "      border-left-color: var(--fill-color);\n",
              "    }\n",
              "    20% {\n",
              "      border-color: transparent;\n",
              "      border-left-color: var(--fill-color);\n",
              "      border-top-color: var(--fill-color);\n",
              "    }\n",
              "    30% {\n",
              "      border-color: transparent;\n",
              "      border-left-color: var(--fill-color);\n",
              "      border-top-color: var(--fill-color);\n",
              "      border-right-color: var(--fill-color);\n",
              "    }\n",
              "    40% {\n",
              "      border-color: transparent;\n",
              "      border-right-color: var(--fill-color);\n",
              "      border-top-color: var(--fill-color);\n",
              "    }\n",
              "    60% {\n",
              "      border-color: transparent;\n",
              "      border-right-color: var(--fill-color);\n",
              "    }\n",
              "    80% {\n",
              "      border-color: transparent;\n",
              "      border-right-color: var(--fill-color);\n",
              "      border-bottom-color: var(--fill-color);\n",
              "    }\n",
              "    90% {\n",
              "      border-color: transparent;\n",
              "      border-bottom-color: var(--fill-color);\n",
              "    }\n",
              "  }\n",
              "</style>\n",
              "\n",
              "  <script>\n",
              "    async function quickchart(key) {\n",
              "      const quickchartButtonEl =\n",
              "        document.querySelector('#' + key + ' button');\n",
              "      quickchartButtonEl.disabled = true;  // To prevent multiple clicks.\n",
              "      quickchartButtonEl.classList.add('colab-df-spinner');\n",
              "      try {\n",
              "        const charts = await google.colab.kernel.invokeFunction(\n",
              "            'suggestCharts', [key], {});\n",
              "      } catch (error) {\n",
              "        console.error('Error during call to suggestCharts:', error);\n",
              "      }\n",
              "      quickchartButtonEl.classList.remove('colab-df-spinner');\n",
              "      quickchartButtonEl.classList.add('colab-df-quickchart-complete');\n",
              "    }\n",
              "    (() => {\n",
              "      let quickchartButtonEl =\n",
              "        document.querySelector('#df-f31abaf7-82bc-4965-9e04-7e0e0d2f35d4 button');\n",
              "      quickchartButtonEl.style.display =\n",
              "        google.colab.kernel.accessAllowed ? 'block' : 'none';\n",
              "    })();\n",
              "  </script>\n",
              "</div>\n",
              "    </div>\n",
              "  </div>\n"
            ]
          },
          "metadata": {},
          "execution_count": 68
        }
      ]
    },
    {
      "cell_type": "code",
      "source": [
        "column_names_list = search_data.columns.tolist()\n",
        "print(column_names_list)"
      ],
      "metadata": {
        "colab": {
          "base_uri": "https://localhost:8080/"
        },
        "id": "PGpCpx7pgKAn",
        "outputId": "923f86dc-74cc-4a88-bdfd-260394067151"
      },
      "execution_count": 69,
      "outputs": [
        {
          "output_type": "stream",
          "name": "stdout",
          "text": [
            "['stop_date', 'county_fips', 'police_department', 'violation', 'search_conducted', 'search_type', 'contraband_found', 'stop_outcome', 'is_arrested', 'search_basis', 'officer_id', 'drugs_related_stop', 'district', 'driver_race_Asian', 'driver_race_Black', 'driver_race_Hispanic', 'driver_race_Other', 'driver_race_White', 'driver_gender_F', 'driver_gender_M', 'driver_age_bucket_<15', 'driver_age_bucket_15-19', 'driver_age_bucket_20-29', 'driver_age_bucket_30-39', 'driver_age_bucket_40-49', 'driver_age_bucket_50+', 'driver_age_bucket_Unknown']\n"
          ]
        }
      ]
    },
    {
      "cell_type": "code",
      "source": [
        "features = ['stop_date', 'violation', 'search_conducted', 'search_type', 'contraband_found', 'search_basis', 'drugs_related_stop', 'district', 'driver_race_Asian', 'driver_race_Black', 'driver_race_Hispanic', 'driver_race_Other', 'driver_race_White', 'driver_gender_F', 'driver_gender_M', 'driver_age_bucket_<15', 'driver_age_bucket_15-19', 'driver_age_bucket_20-29', 'driver_age_bucket_30-39', 'driver_age_bucket_40-49', 'driver_age_bucket_50+']\n",
        "search_data = search_data[features]\n",
        "search_data.head(5)"
      ],
      "metadata": {
        "colab": {
          "base_uri": "https://localhost:8080/",
          "height": 273
        },
        "id": "N7f_r0TPppLb",
        "outputId": "27753bc3-8852-47f2-e87d-9810e55ae917"
      },
      "execution_count": 74,
      "outputs": [
        {
          "output_type": "execute_result",
          "data": {
            "text/plain": [
              "   stop_date  violation  search_conducted  search_type  contraband_found  \\\n",
              "0     1523.0        6.0               0.0          4.0               0.0   \n",
              "1     3022.0        4.0               0.0          4.0               0.0   \n",
              "2     3610.0        3.0               0.0          4.0               0.0   \n",
              "3     3280.0        6.0               0.0          4.0               0.0   \n",
              "4     4984.0        6.0               0.0          4.0               0.0   \n",
              "\n",
              "   search_basis  drugs_related_stop  district  driver_race_Asian  \\\n",
              "0          18.0                 0.0      35.0                  0   \n",
              "1          18.0                 0.0      10.0                  0   \n",
              "2          18.0                 0.0      40.0                  0   \n",
              "3          18.0                 0.0      30.0                  0   \n",
              "4          18.0                 0.0      23.0                  0   \n",
              "\n",
              "   driver_race_Black  ...  driver_race_Other  driver_race_White  \\\n",
              "0                  0  ...                  0                  1   \n",
              "1                  0  ...                  0                  1   \n",
              "2                  0  ...                  0                  1   \n",
              "3                  0  ...                  0                  1   \n",
              "4                  0  ...                  0                  0   \n",
              "\n",
              "   driver_gender_F  driver_gender_M  driver_age_bucket_<15  \\\n",
              "0                1                0                      0   \n",
              "1                1                0                      0   \n",
              "2                0                1                      0   \n",
              "3                1                0                      0   \n",
              "4                0                1                      0   \n",
              "\n",
              "   driver_age_bucket_15-19  driver_age_bucket_20-29  driver_age_bucket_30-39  \\\n",
              "0                        0                        0                        1   \n",
              "1                        1                        0                        0   \n",
              "2                        0                        0                        1   \n",
              "3                        0                        0                        1   \n",
              "4                        0                        1                        0   \n",
              "\n",
              "   driver_age_bucket_40-49  driver_age_bucket_50+  \n",
              "0                        0                      0  \n",
              "1                        0                      0  \n",
              "2                        0                      0  \n",
              "3                        0                      0  \n",
              "4                        0                      0  \n",
              "\n",
              "[5 rows x 21 columns]"
            ],
            "text/html": [
              "\n",
              "  <div id=\"df-357f9bcf-221c-4e4b-ad8e-5f05dd54dbc1\" class=\"colab-df-container\">\n",
              "    <div>\n",
              "<style scoped>\n",
              "    .dataframe tbody tr th:only-of-type {\n",
              "        vertical-align: middle;\n",
              "    }\n",
              "\n",
              "    .dataframe tbody tr th {\n",
              "        vertical-align: top;\n",
              "    }\n",
              "\n",
              "    .dataframe thead th {\n",
              "        text-align: right;\n",
              "    }\n",
              "</style>\n",
              "<table border=\"1\" class=\"dataframe\">\n",
              "  <thead>\n",
              "    <tr style=\"text-align: right;\">\n",
              "      <th></th>\n",
              "      <th>stop_date</th>\n",
              "      <th>violation</th>\n",
              "      <th>search_conducted</th>\n",
              "      <th>search_type</th>\n",
              "      <th>contraband_found</th>\n",
              "      <th>search_basis</th>\n",
              "      <th>drugs_related_stop</th>\n",
              "      <th>district</th>\n",
              "      <th>driver_race_Asian</th>\n",
              "      <th>driver_race_Black</th>\n",
              "      <th>...</th>\n",
              "      <th>driver_race_Other</th>\n",
              "      <th>driver_race_White</th>\n",
              "      <th>driver_gender_F</th>\n",
              "      <th>driver_gender_M</th>\n",
              "      <th>driver_age_bucket_&lt;15</th>\n",
              "      <th>driver_age_bucket_15-19</th>\n",
              "      <th>driver_age_bucket_20-29</th>\n",
              "      <th>driver_age_bucket_30-39</th>\n",
              "      <th>driver_age_bucket_40-49</th>\n",
              "      <th>driver_age_bucket_50+</th>\n",
              "    </tr>\n",
              "  </thead>\n",
              "  <tbody>\n",
              "    <tr>\n",
              "      <th>0</th>\n",
              "      <td>1523.0</td>\n",
              "      <td>6.0</td>\n",
              "      <td>0.0</td>\n",
              "      <td>4.0</td>\n",
              "      <td>0.0</td>\n",
              "      <td>18.0</td>\n",
              "      <td>0.0</td>\n",
              "      <td>35.0</td>\n",
              "      <td>0</td>\n",
              "      <td>0</td>\n",
              "      <td>...</td>\n",
              "      <td>0</td>\n",
              "      <td>1</td>\n",
              "      <td>1</td>\n",
              "      <td>0</td>\n",
              "      <td>0</td>\n",
              "      <td>0</td>\n",
              "      <td>0</td>\n",
              "      <td>1</td>\n",
              "      <td>0</td>\n",
              "      <td>0</td>\n",
              "    </tr>\n",
              "    <tr>\n",
              "      <th>1</th>\n",
              "      <td>3022.0</td>\n",
              "      <td>4.0</td>\n",
              "      <td>0.0</td>\n",
              "      <td>4.0</td>\n",
              "      <td>0.0</td>\n",
              "      <td>18.0</td>\n",
              "      <td>0.0</td>\n",
              "      <td>10.0</td>\n",
              "      <td>0</td>\n",
              "      <td>0</td>\n",
              "      <td>...</td>\n",
              "      <td>0</td>\n",
              "      <td>1</td>\n",
              "      <td>1</td>\n",
              "      <td>0</td>\n",
              "      <td>0</td>\n",
              "      <td>1</td>\n",
              "      <td>0</td>\n",
              "      <td>0</td>\n",
              "      <td>0</td>\n",
              "      <td>0</td>\n",
              "    </tr>\n",
              "    <tr>\n",
              "      <th>2</th>\n",
              "      <td>3610.0</td>\n",
              "      <td>3.0</td>\n",
              "      <td>0.0</td>\n",
              "      <td>4.0</td>\n",
              "      <td>0.0</td>\n",
              "      <td>18.0</td>\n",
              "      <td>0.0</td>\n",
              "      <td>40.0</td>\n",
              "      <td>0</td>\n",
              "      <td>0</td>\n",
              "      <td>...</td>\n",
              "      <td>0</td>\n",
              "      <td>1</td>\n",
              "      <td>0</td>\n",
              "      <td>1</td>\n",
              "      <td>0</td>\n",
              "      <td>0</td>\n",
              "      <td>0</td>\n",
              "      <td>1</td>\n",
              "      <td>0</td>\n",
              "      <td>0</td>\n",
              "    </tr>\n",
              "    <tr>\n",
              "      <th>3</th>\n",
              "      <td>3280.0</td>\n",
              "      <td>6.0</td>\n",
              "      <td>0.0</td>\n",
              "      <td>4.0</td>\n",
              "      <td>0.0</td>\n",
              "      <td>18.0</td>\n",
              "      <td>0.0</td>\n",
              "      <td>30.0</td>\n",
              "      <td>0</td>\n",
              "      <td>0</td>\n",
              "      <td>...</td>\n",
              "      <td>0</td>\n",
              "      <td>1</td>\n",
              "      <td>1</td>\n",
              "      <td>0</td>\n",
              "      <td>0</td>\n",
              "      <td>0</td>\n",
              "      <td>0</td>\n",
              "      <td>1</td>\n",
              "      <td>0</td>\n",
              "      <td>0</td>\n",
              "    </tr>\n",
              "    <tr>\n",
              "      <th>4</th>\n",
              "      <td>4984.0</td>\n",
              "      <td>6.0</td>\n",
              "      <td>0.0</td>\n",
              "      <td>4.0</td>\n",
              "      <td>0.0</td>\n",
              "      <td>18.0</td>\n",
              "      <td>0.0</td>\n",
              "      <td>23.0</td>\n",
              "      <td>0</td>\n",
              "      <td>0</td>\n",
              "      <td>...</td>\n",
              "      <td>0</td>\n",
              "      <td>0</td>\n",
              "      <td>0</td>\n",
              "      <td>1</td>\n",
              "      <td>0</td>\n",
              "      <td>0</td>\n",
              "      <td>1</td>\n",
              "      <td>0</td>\n",
              "      <td>0</td>\n",
              "      <td>0</td>\n",
              "    </tr>\n",
              "  </tbody>\n",
              "</table>\n",
              "<p>5 rows × 21 columns</p>\n",
              "</div>\n",
              "    <div class=\"colab-df-buttons\">\n",
              "\n",
              "  <div class=\"colab-df-container\">\n",
              "    <button class=\"colab-df-convert\" onclick=\"convertToInteractive('df-357f9bcf-221c-4e4b-ad8e-5f05dd54dbc1')\"\n",
              "            title=\"Convert this dataframe to an interactive table.\"\n",
              "            style=\"display:none;\">\n",
              "\n",
              "  <svg xmlns=\"http://www.w3.org/2000/svg\" height=\"24px\" viewBox=\"0 -960 960 960\">\n",
              "    <path d=\"M120-120v-720h720v720H120Zm60-500h600v-160H180v160Zm220 220h160v-160H400v160Zm0 220h160v-160H400v160ZM180-400h160v-160H180v160Zm440 0h160v-160H620v160ZM180-180h160v-160H180v160Zm440 0h160v-160H620v160Z\"/>\n",
              "  </svg>\n",
              "    </button>\n",
              "\n",
              "  <style>\n",
              "    .colab-df-container {\n",
              "      display:flex;\n",
              "      gap: 12px;\n",
              "    }\n",
              "\n",
              "    .colab-df-convert {\n",
              "      background-color: #E8F0FE;\n",
              "      border: none;\n",
              "      border-radius: 50%;\n",
              "      cursor: pointer;\n",
              "      display: none;\n",
              "      fill: #1967D2;\n",
              "      height: 32px;\n",
              "      padding: 0 0 0 0;\n",
              "      width: 32px;\n",
              "    }\n",
              "\n",
              "    .colab-df-convert:hover {\n",
              "      background-color: #E2EBFA;\n",
              "      box-shadow: 0px 1px 2px rgba(60, 64, 67, 0.3), 0px 1px 3px 1px rgba(60, 64, 67, 0.15);\n",
              "      fill: #174EA6;\n",
              "    }\n",
              "\n",
              "    .colab-df-buttons div {\n",
              "      margin-bottom: 4px;\n",
              "    }\n",
              "\n",
              "    [theme=dark] .colab-df-convert {\n",
              "      background-color: #3B4455;\n",
              "      fill: #D2E3FC;\n",
              "    }\n",
              "\n",
              "    [theme=dark] .colab-df-convert:hover {\n",
              "      background-color: #434B5C;\n",
              "      box-shadow: 0px 1px 3px 1px rgba(0, 0, 0, 0.15);\n",
              "      filter: drop-shadow(0px 1px 2px rgba(0, 0, 0, 0.3));\n",
              "      fill: #FFFFFF;\n",
              "    }\n",
              "  </style>\n",
              "\n",
              "    <script>\n",
              "      const buttonEl =\n",
              "        document.querySelector('#df-357f9bcf-221c-4e4b-ad8e-5f05dd54dbc1 button.colab-df-convert');\n",
              "      buttonEl.style.display =\n",
              "        google.colab.kernel.accessAllowed ? 'block' : 'none';\n",
              "\n",
              "      async function convertToInteractive(key) {\n",
              "        const element = document.querySelector('#df-357f9bcf-221c-4e4b-ad8e-5f05dd54dbc1');\n",
              "        const dataTable =\n",
              "          await google.colab.kernel.invokeFunction('convertToInteractive',\n",
              "                                                    [key], {});\n",
              "        if (!dataTable) return;\n",
              "\n",
              "        const docLinkHtml = 'Like what you see? Visit the ' +\n",
              "          '<a target=\"_blank\" href=https://colab.research.google.com/notebooks/data_table.ipynb>data table notebook</a>'\n",
              "          + ' to learn more about interactive tables.';\n",
              "        element.innerHTML = '';\n",
              "        dataTable['output_type'] = 'display_data';\n",
              "        await google.colab.output.renderOutput(dataTable, element);\n",
              "        const docLink = document.createElement('div');\n",
              "        docLink.innerHTML = docLinkHtml;\n",
              "        element.appendChild(docLink);\n",
              "      }\n",
              "    </script>\n",
              "  </div>\n",
              "\n",
              "\n",
              "<div id=\"df-b075cb3e-5075-48be-ad6b-7bf0015497d1\">\n",
              "  <button class=\"colab-df-quickchart\" onclick=\"quickchart('df-b075cb3e-5075-48be-ad6b-7bf0015497d1')\"\n",
              "            title=\"Suggest charts.\"\n",
              "            style=\"display:none;\">\n",
              "\n",
              "<svg xmlns=\"http://www.w3.org/2000/svg\" height=\"24px\"viewBox=\"0 0 24 24\"\n",
              "     width=\"24px\">\n",
              "    <g>\n",
              "        <path d=\"M19 3H5c-1.1 0-2 .9-2 2v14c0 1.1.9 2 2 2h14c1.1 0 2-.9 2-2V5c0-1.1-.9-2-2-2zM9 17H7v-7h2v7zm4 0h-2V7h2v10zm4 0h-2v-4h2v4z\"/>\n",
              "    </g>\n",
              "</svg>\n",
              "  </button>\n",
              "\n",
              "<style>\n",
              "  .colab-df-quickchart {\n",
              "      --bg-color: #E8F0FE;\n",
              "      --fill-color: #1967D2;\n",
              "      --hover-bg-color: #E2EBFA;\n",
              "      --hover-fill-color: #174EA6;\n",
              "      --disabled-fill-color: #AAA;\n",
              "      --disabled-bg-color: #DDD;\n",
              "  }\n",
              "\n",
              "  [theme=dark] .colab-df-quickchart {\n",
              "      --bg-color: #3B4455;\n",
              "      --fill-color: #D2E3FC;\n",
              "      --hover-bg-color: #434B5C;\n",
              "      --hover-fill-color: #FFFFFF;\n",
              "      --disabled-bg-color: #3B4455;\n",
              "      --disabled-fill-color: #666;\n",
              "  }\n",
              "\n",
              "  .colab-df-quickchart {\n",
              "    background-color: var(--bg-color);\n",
              "    border: none;\n",
              "    border-radius: 50%;\n",
              "    cursor: pointer;\n",
              "    display: none;\n",
              "    fill: var(--fill-color);\n",
              "    height: 32px;\n",
              "    padding: 0;\n",
              "    width: 32px;\n",
              "  }\n",
              "\n",
              "  .colab-df-quickchart:hover {\n",
              "    background-color: var(--hover-bg-color);\n",
              "    box-shadow: 0 1px 2px rgba(60, 64, 67, 0.3), 0 1px 3px 1px rgba(60, 64, 67, 0.15);\n",
              "    fill: var(--button-hover-fill-color);\n",
              "  }\n",
              "\n",
              "  .colab-df-quickchart-complete:disabled,\n",
              "  .colab-df-quickchart-complete:disabled:hover {\n",
              "    background-color: var(--disabled-bg-color);\n",
              "    fill: var(--disabled-fill-color);\n",
              "    box-shadow: none;\n",
              "  }\n",
              "\n",
              "  .colab-df-spinner {\n",
              "    border: 2px solid var(--fill-color);\n",
              "    border-color: transparent;\n",
              "    border-bottom-color: var(--fill-color);\n",
              "    animation:\n",
              "      spin 1s steps(1) infinite;\n",
              "  }\n",
              "\n",
              "  @keyframes spin {\n",
              "    0% {\n",
              "      border-color: transparent;\n",
              "      border-bottom-color: var(--fill-color);\n",
              "      border-left-color: var(--fill-color);\n",
              "    }\n",
              "    20% {\n",
              "      border-color: transparent;\n",
              "      border-left-color: var(--fill-color);\n",
              "      border-top-color: var(--fill-color);\n",
              "    }\n",
              "    30% {\n",
              "      border-color: transparent;\n",
              "      border-left-color: var(--fill-color);\n",
              "      border-top-color: var(--fill-color);\n",
              "      border-right-color: var(--fill-color);\n",
              "    }\n",
              "    40% {\n",
              "      border-color: transparent;\n",
              "      border-right-color: var(--fill-color);\n",
              "      border-top-color: var(--fill-color);\n",
              "    }\n",
              "    60% {\n",
              "      border-color: transparent;\n",
              "      border-right-color: var(--fill-color);\n",
              "    }\n",
              "    80% {\n",
              "      border-color: transparent;\n",
              "      border-right-color: var(--fill-color);\n",
              "      border-bottom-color: var(--fill-color);\n",
              "    }\n",
              "    90% {\n",
              "      border-color: transparent;\n",
              "      border-bottom-color: var(--fill-color);\n",
              "    }\n",
              "  }\n",
              "</style>\n",
              "\n",
              "  <script>\n",
              "    async function quickchart(key) {\n",
              "      const quickchartButtonEl =\n",
              "        document.querySelector('#' + key + ' button');\n",
              "      quickchartButtonEl.disabled = true;  // To prevent multiple clicks.\n",
              "      quickchartButtonEl.classList.add('colab-df-spinner');\n",
              "      try {\n",
              "        const charts = await google.colab.kernel.invokeFunction(\n",
              "            'suggestCharts', [key], {});\n",
              "      } catch (error) {\n",
              "        console.error('Error during call to suggestCharts:', error);\n",
              "      }\n",
              "      quickchartButtonEl.classList.remove('colab-df-spinner');\n",
              "      quickchartButtonEl.classList.add('colab-df-quickchart-complete');\n",
              "    }\n",
              "    (() => {\n",
              "      let quickchartButtonEl =\n",
              "        document.querySelector('#df-b075cb3e-5075-48be-ad6b-7bf0015497d1 button');\n",
              "      quickchartButtonEl.style.display =\n",
              "        google.colab.kernel.accessAllowed ? 'block' : 'none';\n",
              "    })();\n",
              "  </script>\n",
              "</div>\n",
              "    </div>\n",
              "  </div>\n"
            ]
          },
          "metadata": {},
          "execution_count": 74
        }
      ]
    },
    {
      "cell_type": "code",
      "source": [
        "from sklearn.model_selection import train_test_split\n",
        "from sklearn.preprocessing import StandardScaler\n",
        "from sklearn.linear_model import LogisticRegression\n",
        "\n",
        "y = search_data.search_conducted\n",
        "X = search_data.drop('search_conducted', axis=1)\n",
        "\n",
        "X_train, X_test, y_train, y_test = train_test_split(X, y, test_size=0.3, random_state=42)\n",
        "\n",
        "scaler = StandardScaler()\n",
        "scaler.fit(X_train)\n",
        "X_train_scaled = scaler.transform(X_train)\n",
        "X_test_scaled = scaler.transform(X_test)\n",
        "\n",
        "outcome_model = LogisticRegression()\n",
        "outcome_model.fit(X_train_scaled, y_train)\n",
        "y_pred = outcome_model.predict(X_test_scaled)"
      ],
      "metadata": {
        "id": "9MZcWeLxqdOL"
      },
      "execution_count": 75,
      "outputs": []
    },
    {
      "cell_type": "code",
      "source": [
        "outcome_model.coef_"
      ],
      "metadata": {
        "colab": {
          "base_uri": "https://localhost:8080/"
        },
        "id": "y9IGKk34rQ0P",
        "outputId": "d4f8ff0a-1d03-4bd2-afa8-e0b2863a0ad8"
      },
      "execution_count": 76,
      "outputs": [
        {
          "output_type": "execute_result",
          "data": {
            "text/plain": [
              "array([[-0.17201831, -0.43093566, -4.27919476,  0.10638606, -5.16903777,\n",
              "         0.02905908, -0.11991634, -0.11471543, -0.07155932,  0.01975689,\n",
              "        -0.22334385,  0.14959958,  0.03386625, -0.03386625,  0.        ,\n",
              "        -0.08130502,  0.07993542,  0.06827589,  0.05836557, -0.17208829]])"
            ]
          },
          "metadata": {},
          "execution_count": 76
        }
      ]
    },
    {
      "cell_type": "code",
      "source": [
        "# Create a dictionary to store the mapping of feature names to coefficients\n",
        "feature_coefficient_mapping = {}\n",
        "\n",
        "# Get the coefficient values from the logistic_model_search\n",
        "coefficients = outcome_model.coef_[0]\n",
        "\n",
        "# Get the list of feature names from the columns of sampled_data\n",
        "feature_names = X.columns\n",
        "\n",
        "# Iterate through feature names and coefficients and create the mapping\n",
        "for feature_name, coefficient in zip(feature_names, coefficients):\n",
        "    feature_coefficient_mapping[feature_name] = coefficient\n",
        "\n",
        "# Print the sorted mapping\n",
        "for feature, coefficient in feature_coefficient_mapping.items():\n",
        "    print(f\"Feature: {feature}, Coefficient: {coefficient}\")"
      ],
      "metadata": {
        "colab": {
          "base_uri": "https://localhost:8080/"
        },
        "id": "jAnZ6fz7rdRO",
        "outputId": "c1ffab20-1d8e-4d5f-d25c-18191b0f3186"
      },
      "execution_count": 77,
      "outputs": [
        {
          "output_type": "stream",
          "name": "stdout",
          "text": [
            "Feature: stop_date, Coefficient: -0.17201831399055595\n",
            "Feature: violation, Coefficient: -0.4309356588139119\n",
            "Feature: search_type, Coefficient: -4.2791947590094415\n",
            "Feature: contraband_found, Coefficient: 0.10638606400905705\n",
            "Feature: search_basis, Coefficient: -5.169037773126024\n",
            "Feature: drugs_related_stop, Coefficient: 0.029059081726789397\n",
            "Feature: district, Coefficient: -0.11991633881905413\n",
            "Feature: driver_race_Asian, Coefficient: -0.11471542554986594\n",
            "Feature: driver_race_Black, Coefficient: -0.0715593180676445\n",
            "Feature: driver_race_Hispanic, Coefficient: 0.019756887673580154\n",
            "Feature: driver_race_Other, Coefficient: -0.22334384545979788\n",
            "Feature: driver_race_White, Coefficient: 0.1495995831917547\n",
            "Feature: driver_gender_F, Coefficient: 0.033866254007192384\n",
            "Feature: driver_gender_M, Coefficient: -0.03386625400719274\n",
            "Feature: driver_age_bucket_<15, Coefficient: 0.0\n",
            "Feature: driver_age_bucket_15-19, Coefficient: -0.08130501555939575\n",
            "Feature: driver_age_bucket_20-29, Coefficient: 0.07993541715987837\n",
            "Feature: driver_age_bucket_30-39, Coefficient: 0.06827589226887644\n",
            "Feature: driver_age_bucket_40-49, Coefficient: 0.05836556860805594\n",
            "Feature: driver_age_bucket_50+, Coefficient: -0.1720882862163646\n"
          ]
        }
      ]
    }
  ]
}