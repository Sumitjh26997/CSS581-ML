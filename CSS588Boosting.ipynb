{
  "nbformat": 4,
  "nbformat_minor": 0,
  "metadata": {
    "colab": {
      "provenance": [],
      "include_colab_link": true
    },
    "kernelspec": {
      "name": "python3",
      "display_name": "Python 3"
    },
    "language_info": {
      "name": "python"
    }
  },
  "cells": [
    {
      "cell_type": "markdown",
      "metadata": {
        "id": "view-in-github",
        "colab_type": "text"
      },
      "source": [
        "<a href=\"https://colab.research.google.com/github/Sumitjh26997/CSS581-ML/blob/main/CSS588Boosting.ipynb\" target=\"_parent\"><img src=\"https://colab.research.google.com/assets/colab-badge.svg\" alt=\"Open In Colab\"/></a>"
      ]
    },
    {
      "cell_type": "markdown",
      "source": [
        "## Bagging, Boosting and Ensemble\n",
        "> In this notebook we will explore some of the concepts we covered in terms of improving weak learners. In particular this is an opportunity to try Adaboost, Gradiant Boost. Compare its performance with Bagging.\n",
        "\n",
        "\n",
        "\n"
      ],
      "metadata": {
        "id": "OjHtA5bGaCUU"
      }
    },
    {
      "cell_type": "markdown",
      "source": [
        "Recap on the UCI census"
      ],
      "metadata": {
        "id": "I1v8QTehgUxI"
      }
    },
    {
      "cell_type": "code",
      "execution_count": 2,
      "metadata": {
        "id": "pPYCa_L_aBNT",
        "outputId": "d2c50d7f-3665-44ac-db0d-2dfd1f5f00a9",
        "colab": {
          "base_uri": "https://localhost:8080/"
        }
      },
      "outputs": [
        {
          "output_type": "execute_result",
          "data": {
            "text/plain": [
              "0         <=50K\n",
              "1         <=50K\n",
              "2         <=50K\n",
              "3         <=50K\n",
              "4         <=50K\n",
              "          ...  \n",
              "32556     <=50K\n",
              "32557      >50K\n",
              "32558     <=50K\n",
              "32559     <=50K\n",
              "32560      >50K\n",
              "Name: Target, Length: 32561, dtype: object"
            ]
          },
          "metadata": {},
          "execution_count": 2
        }
      ],
      "source": [
        "import numpy as np\n",
        "import pandas as pd\n",
        "from sklearn.ensemble import RandomForestClassifier, GradientBoostingClassifier, AdaBoostClassifier\n",
        "from sklearn.model_selection import train_test_split, cross_val_predict\n",
        "from sklearn.metrics import accuracy_score, f1_score, recall_score, precision_score\n",
        "from sklearn.tree import DecisionTreeClassifier\n",
        "\n",
        "# Load the UCI adult census data\n",
        "data = pd.read_csv(\"https://archive.ics.uci.edu/ml/machine-learning-databases/adult/adult.data\", header=None,\n",
        "                   names=[\"Age\", \"Workclass\", \"fnlwgt\", \"Education\", \"Education-Num\", \"Martial Status\",\n",
        "                          \"Occupation\", \"Relationship\", \"Race\", \"Sex\", \"Capital Gain\", \"Capital Loss\",\n",
        "                          \"Hours per week\", \"Country\", \"Target\"])\n",
        "\n",
        "# Pre-processing to convert categorical variables to numerical\n",
        "data = pd.get_dummies(data, columns=[\"Workclass\", \"Education\", \"Martial Status\", \"Occupation\",\n",
        "                                     \"Relationship\", \"Race\", \"Sex\", \"Country\"])\n",
        "\n",
        "\n",
        "# Split data into training and testing sets\n",
        "X = data.drop(\"Target\", axis=1)\n",
        "y=data[\"Target\"]\n",
        "X_train, X_test, y_train, y_test = train_test_split(X, y, test_size=0.3, random_state=42)\n",
        "y"
      ]
    },
    {
      "cell_type": "markdown",
      "source": [
        "## Baseline"
      ],
      "metadata": {
        "id": "zjYvC8Yh6MhL"
      }
    },
    {
      "cell_type": "code",
      "source": [
        "rnd = RandomForestClassifier()\n",
        "rnd.fit(X_train, y_train)\n",
        "y_pred = rnd.predict(X_test)\n",
        "print(accuracy_score(y_test, y_pred))"
      ],
      "metadata": {
        "colab": {
          "base_uri": "https://localhost:8080/"
        },
        "id": "mBrf3VjDL-Vm",
        "outputId": "e8e86cd0-e35c-4f4b-c3c7-83fb62c202e4"
      },
      "execution_count": 3,
      "outputs": [
        {
          "output_type": "stream",
          "name": "stdout",
          "text": [
            "0.8550516941345071\n"
          ]
        }
      ]
    },
    {
      "cell_type": "code",
      "source": [
        "y.value_counts()"
      ],
      "metadata": {
        "colab": {
          "base_uri": "https://localhost:8080/"
        },
        "id": "dFI_gGJvIzGh",
        "outputId": "2bc1433b-0675-4c7d-c228-93aaf5009930"
      },
      "execution_count": 4,
      "outputs": [
        {
          "output_type": "execute_result",
          "data": {
            "text/plain": [
              " <=50K    24720\n",
              " >50K      7841\n",
              "Name: Target, dtype: int64"
            ]
          },
          "metadata": {},
          "execution_count": 4
        }
      ]
    },
    {
      "cell_type": "markdown",
      "source": [
        "## Oversampling"
      ],
      "metadata": {
        "id": "qY7BvO3y6PYF"
      }
    },
    {
      "cell_type": "code",
      "source": [
        "from imblearn.over_sampling import SMOTE\n",
        "X_oversampled, y_oversampled = SMOTE().fit_resample(X, y)\n",
        "X_train_smote, X_test_smote, y_train_smote, y_test_smote = train_test_split(X_oversampled, y_oversampled, test_size=0.3, random_state=42)"
      ],
      "metadata": {
        "id": "PkjKFShGKo1G"
      },
      "execution_count": 27,
      "outputs": []
    },
    {
      "cell_type": "code",
      "source": [
        "y_oversampled.value_counts()"
      ],
      "metadata": {
        "colab": {
          "base_uri": "https://localhost:8080/"
        },
        "id": "NT3mGf2pMYLl",
        "outputId": "72f8e71d-27af-4e43-fb41-93bf66bc6773"
      },
      "execution_count": 28,
      "outputs": [
        {
          "output_type": "execute_result",
          "data": {
            "text/plain": [
              " <=50K    24720\n",
              " >50K     24720\n",
              "Name: Target, dtype: int64"
            ]
          },
          "metadata": {},
          "execution_count": 28
        }
      ]
    },
    {
      "cell_type": "code",
      "source": [
        "y_pred_over = RandomForestClassifier().fit(X_train_smote, y_train_smote).predict(X_test_smote)\n",
        "print(accuracy_score(y_test_smote, y_pred_over))"
      ],
      "metadata": {
        "colab": {
          "base_uri": "https://localhost:8080/"
        },
        "id": "itBtUfuoKBN5",
        "outputId": "8ca0e3fb-e985-49f9-c049-a3863c2c8da6"
      },
      "execution_count": 29,
      "outputs": [
        {
          "output_type": "stream",
          "name": "stdout",
          "text": [
            "0.9005528586839266\n"
          ]
        }
      ]
    },
    {
      "cell_type": "code",
      "source": [
        "from imblearn.over_sampling import ADASYN\n",
        "X_ADASYN, y_ADASYN = ADASYN().fit_resample(X, y)\n",
        "X_train_ad, X_test_ad, y_train_ad, y_test_ad = train_test_split(X_ADASYN, y_ADASYN, test_size=0.3, random_state=42)\n",
        "y_ADASYN.value_counts()"
      ],
      "metadata": {
        "colab": {
          "base_uri": "https://localhost:8080/"
        },
        "id": "ln2uofL0MDG4",
        "outputId": "95be9323-1321-415b-a05a-4ae6a08b0f60"
      },
      "execution_count": 30,
      "outputs": [
        {
          "output_type": "execute_result",
          "data": {
            "text/plain": [
              " >50K     24857\n",
              " <=50K    24720\n",
              "Name: Target, dtype: int64"
            ]
          },
          "metadata": {},
          "execution_count": 30
        }
      ]
    },
    {
      "cell_type": "code",
      "source": [
        "y_pred_ADASYN = RandomForestClassifier().fit(X_train_ad, y_train_ad).predict(X_test_ad)\n",
        "print(accuracy_score(y_test_ad, y_pred_ADASYN))"
      ],
      "metadata": {
        "colab": {
          "base_uri": "https://localhost:8080/"
        },
        "id": "Mpuj4mEbMQ0A",
        "outputId": "7c3a1422-60f9-4990-9311-c1258a4c3fcb"
      },
      "execution_count": 31,
      "outputs": [
        {
          "output_type": "stream",
          "name": "stdout",
          "text": [
            "0.8976065617856662\n"
          ]
        }
      ]
    },
    {
      "cell_type": "markdown",
      "source": [
        "## Undersampling"
      ],
      "metadata": {
        "id": "9WLQbGvq6T7m"
      }
    },
    {
      "cell_type": "code",
      "source": [
        "from imblearn.under_sampling import RepeatedEditedNearestNeighbours\n",
        "renn = RepeatedEditedNearestNeighbours()\n",
        "X_undersampled, y_undersampled = renn.fit_resample(X, y)\n",
        "X_train_under, X_test_under, y_train_under, y_test_under = train_test_split(X_undersampled, y_undersampled, test_size=0.2, random_state=42)"
      ],
      "metadata": {
        "id": "RV6KbZcBJOdj"
      },
      "execution_count": 37,
      "outputs": []
    },
    {
      "cell_type": "code",
      "source": [
        "y_undersampled.value_counts()"
      ],
      "metadata": {
        "colab": {
          "base_uri": "https://localhost:8080/"
        },
        "id": "8RaWxv7RNcns",
        "outputId": "47d603a1-de42-47e1-dafd-22e7e0dfb1b2"
      },
      "execution_count": 38,
      "outputs": [
        {
          "output_type": "execute_result",
          "data": {
            "text/plain": [
              " <=50K    10037\n",
              " >50K      7841\n",
              "Name: Target, dtype: int64"
            ]
          },
          "metadata": {},
          "execution_count": 38
        }
      ]
    },
    {
      "cell_type": "code",
      "source": [
        "y_pred_under = RandomForestClassifier().fit(X_train_under, y_train_under).predict(X_test_under)\n",
        "print(accuracy_score(y_test_under, y_pred_under))"
      ],
      "metadata": {
        "colab": {
          "base_uri": "https://localhost:8080/"
        },
        "id": "PsuUsiNZKYm7",
        "outputId": "e4546ce1-363c-4e81-afad-fb525c5644f1"
      },
      "execution_count": 39,
      "outputs": [
        {
          "output_type": "stream",
          "name": "stdout",
          "text": [
            "0.8436800894854586\n"
          ]
        }
      ]
    },
    {
      "cell_type": "code",
      "source": [
        "from imblearn.under_sampling import NearMiss\n",
        "nm1 = NearMiss(version=1)\n",
        "\n",
        "X_nm, y_nm = nm1.fit_resample(X, y)\n",
        "X_train_nm, X_test_nm, y_train_nm, y_test_nm = train_test_split(X_nm, y_nm, test_size=0.3, random_state=42)\n",
        "y_nm.value_counts()"
      ],
      "metadata": {
        "id": "oz3kJ2oo_MGN",
        "outputId": "c75c120e-7772-430d-8f31-c5b2a394dba6",
        "colab": {
          "base_uri": "https://localhost:8080/"
        }
      },
      "execution_count": 42,
      "outputs": [
        {
          "output_type": "execute_result",
          "data": {
            "text/plain": [
              " <=50K    7841\n",
              " >50K     7841\n",
              "Name: Target, dtype: int64"
            ]
          },
          "metadata": {},
          "execution_count": 42
        }
      ]
    },
    {
      "cell_type": "code",
      "source": [
        "y_pred_nm = RandomForestClassifier().fit(X_train_nm, y_train_nm).predict(X_test_nm)\n",
        "print(accuracy_score(y_test_nm, y_pred_nm))"
      ],
      "metadata": {
        "id": "MLSlH8GC_8ot",
        "outputId": "e961a491-b9d5-4100-8bf4-aa01ff1d877f",
        "colab": {
          "base_uri": "https://localhost:8080/"
        }
      },
      "execution_count": 43,
      "outputs": [
        {
          "output_type": "stream",
          "name": "stdout",
          "text": [
            "0.822316684378321\n"
          ]
        }
      ]
    },
    {
      "cell_type": "markdown",
      "source": [
        "## Combined"
      ],
      "metadata": {
        "id": "zmTOqOni6hjV"
      }
    },
    {
      "cell_type": "code",
      "source": [
        "from imblearn.combine import SMOTEENN\n",
        "smote_enn = SMOTEENN(random_state=0)\n",
        "X_resampled, y_resampled = smote_enn.fit_resample(X, y)\n",
        "X_train_comb, X_test_comb, y_train_comb, y_test_comb = train_test_split(X_resampled, y_resampled, test_size=0.3, random_state=42)\n",
        "\n",
        "y_resampled.value_counts()"
      ],
      "metadata": {
        "colab": {
          "base_uri": "https://localhost:8080/"
        },
        "id": "DJGB-UW55IRn",
        "outputId": "a2773508-d3e0-44b8-fcfa-2b65b2155938"
      },
      "execution_count": 35,
      "outputs": [
        {
          "output_type": "execute_result",
          "data": {
            "text/plain": [
              " >50K     13999\n",
              " <=50K    10276\n",
              "Name: Target, dtype: int64"
            ]
          },
          "metadata": {},
          "execution_count": 35
        }
      ]
    },
    {
      "cell_type": "code",
      "source": [
        "y_pred_combined = RandomForestClassifier().fit(X_train_comb, y_train_comb).predict(X_test_comb)\n",
        "print(accuracy_score(y_test_comb, y_pred_combined))"
      ],
      "metadata": {
        "colab": {
          "base_uri": "https://localhost:8080/"
        },
        "id": "ME9UOxOm6-JD",
        "outputId": "06a8486e-9a5d-41c2-f68f-3535fb785b8b"
      },
      "execution_count": 36,
      "outputs": [
        {
          "output_type": "stream",
          "name": "stdout",
          "text": [
            "0.935740766167788\n"
          ]
        }
      ]
    }
  ]
}